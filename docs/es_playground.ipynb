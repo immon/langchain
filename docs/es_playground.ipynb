{
 "cells": [
  {
   "attachments": {},
   "cell_type": "markdown",
   "id": "920a3c1a",
   "metadata": {},
   "source": [
    "# Elasticsearch playground\n",
    "\n",
    "Jupyther notebook to play with Elasticsearch in general.\n",
    "Connect to the cluster, play with queries, play with LLMChains.\n",
    "\n"
   ]
  },
  {
   "cell_type": "code",
   "execution_count": 25,
   "id": "ab9e95ad",
   "metadata": {},
   "outputs": [],
   "source": [
    "from langchain import LLMChain, OpenAI, Cohere, HuggingFaceHub, PromptTemplate\n",
    "#from langchain.model_laboratory import ModelLaboratory\n",
    "\n",
    "from elasticsearch import Elasticsearch\n",
    "\n",
    "    "
   ]
  },
  {
   "attachments": {},
   "cell_type": "markdown",
   "id": "72e2cc38",
   "metadata": {},
   "source": [
    "## Cluster credentials and URL"
   ]
  },
  {
   "cell_type": "code",
   "execution_count": 4,
   "id": "f603a5f0",
   "metadata": {},
   "outputs": [],
   "source": [
    "\n",
    "ES_URL = \"https://test1.es.europe-north1.gcp.elastic-cloud.com:443\"\n",
    "KB_URL = \"https://test1.kb.europe-north1.gcp.elastic-cloud.com:9243\"\n",
    "\n",
    "username = \"elastic\"\n"
   ]
  },
  {
   "attachments": {},
   "cell_type": "markdown",
   "id": "00aee57a",
   "metadata": {},
   "source": [
    "# Connect to the cluster in Elastic Cloud"
   ]
  },
  {
   "cell_type": "code",
   "execution_count": 27,
   "id": "32cb94e6",
   "metadata": {},
   "outputs": [
    {
     "data": {
      "text/plain": [
       "ObjectApiResponse({'name': 'instance-0000000000', 'cluster_name': '24ee0a66ae1544e3958cd6069dd0e626', 'cluster_uuid': 'rCAnFuk1QZ27xyXaBlvouQ', 'version': {'number': '8.7.1', 'build_flavor': 'default', 'build_type': 'docker', 'build_hash': 'f229ed3f893a515d590d0f39b05f68913e2d9b53', 'build_date': '2023-04-27T04:33:42.127815583Z', 'build_snapshot': False, 'lucene_version': '9.5.0', 'minimum_wire_compatibility_version': '7.17.0', 'minimum_index_compatibility_version': '7.0.0'}, 'tagline': 'You Know, for Search'})"
      ]
     },
     "execution_count": 27,
     "metadata": {},
     "output_type": "execute_result"
    }
   ],
   "source": [
    "client = Elasticsearch(ES_URL,\n",
    "                       basic_auth=(username, password),\n",
    "                       http_compress=True\n",
    "                       )\n",
    "\n",
    "client.info()"
   ]
  },
  {
   "attachments": {},
   "cell_type": "markdown",
   "id": "4bc768be",
   "metadata": {},
   "source": [
    "# Use Elasticsearch API"
   ]
  },
  {
   "cell_type": "code",
   "execution_count": 28,
   "id": "8cc1393f",
   "metadata": {},
   "outputs": [
    {
     "name": "stderr",
     "output_type": "stream",
     "text": [
      "/tmp/ipykernel_140185/78857335.py:12: DeprecationWarning: Passing transport options in the API method is deprecated. Use 'Elasticsearch.options()' instead.\n",
      "  client.indices.create(index=my_index, body=index_metadata, ignore=400)\n",
      "/tmp/ipykernel_140185/78857335.py:12: DeprecationWarning: The 'body' parameter is deprecated and will be removed in a future version. Instead use individual parameters.\n",
      "  client.indices.create(index=my_index, body=index_metadata, ignore=400)\n"
     ]
    },
    {
     "data": {
      "text/plain": [
       "ObjectApiResponse({'count': 31808, '_shards': {'total': 6, 'successful': 6, 'skipped': 0, 'failed': 0}})"
      ]
     },
     "execution_count": 28,
     "metadata": {},
     "output_type": "execute_result"
    }
   ],
   "source": [
    "my_index = \"test-123\"\n",
    "\n",
    "index_metadata = {\n",
    "    \"settings\" : { \"number_of_shards\": 1 },\n",
    "    \"mappings\": {\n",
    "        \"properties\": {\n",
    "            \"name\": { \"type\": \"text\"},\n",
    "            \"foo\": { \"type\": \"keyword\" }\n",
    "            }\n",
    "            }\n",
    "}\n",
    "client.indices.create(index=my_index, body=index_metadata, ignore=400)\n",
    "\n",
    "# client.indices.refresh(index=my_index)\n",
    "\n",
    "client.count(index=\"*\")\n"
   ]
  },
  {
   "cell_type": "code",
   "execution_count": 38,
   "id": "21a38566",
   "metadata": {},
   "outputs": [
    {
     "data": {
      "text/plain": [
       "ObjectApiResponse({'test-123': {'mappings': {'properties': {'foo': {'type': 'keyword'}, 'name': {'type': 'text'}}}}})"
      ]
     },
     "execution_count": 38,
     "metadata": {},
     "output_type": "execute_result"
    }
   ],
   "source": [
    "client.indices.get_mapping(index=my_index)\n"
   ]
  },
  {
   "cell_type": "code",
   "execution_count": 46,
   "id": "8a396e83",
   "metadata": {},
   "outputs": [
    {
     "data": {
      "text/plain": [
       "'Index: test-123\\nFields:\\n  foo: keyword\\n  name: text\\n\\n'"
      ]
     },
     "execution_count": 46,
     "metadata": {},
     "output_type": "execute_result"
    }
   ],
   "source": [
    "info = client.indices.get(index=my_index)\n",
    "\n",
    "def _format_index(index_info):\n",
    "    result = \"\"\n",
    "    for index, info in index_info.items():\n",
    "        result += f\"Index: {index}\\n\"\n",
    "        mappings = info.get(\"mappings\", {})\n",
    "        properties = mappings.get(\"properties\", {})\n",
    "        result += \"Fields:\\n\"\n",
    "        for field, details in properties.items():\n",
    "            result += f\"  {field}: {details.get('type', 'N/A')}\\n\"\n",
    "        result += \"\\n\"\n",
    "    return result\n",
    "\n",
    "\n",
    "_format_index(info)\n",
    "\n",
    "\n",
    "\n",
    "\n"
   ]
  },
  {
   "cell_type": "code",
   "execution_count": 23,
   "id": "14cde09d",
   "metadata": {},
   "outputs": [
    {
     "data": {
      "text/plain": [
       "ObjectApiResponse({'_shards': {'total': 2, 'successful': 1, 'failed': 0}, '_all': {'primaries': {'docs': {'count': 0, 'deleted': 0}, 'shard_stats': {'total_count': 1}, 'store': {'size_in_bytes': 225, 'total_data_set_size_in_bytes': 225, 'reserved_in_bytes': 0}, 'indexing': {'index_total': 0, 'index_time_in_millis': 0, 'index_current': 0, 'index_failed': 0, 'delete_total': 0, 'delete_time_in_millis': 0, 'delete_current': 0, 'noop_update_total': 0, 'is_throttled': False, 'throttle_time_in_millis': 0, 'write_load': 0.0}, 'get': {'total': 0, 'time_in_millis': 0, 'exists_total': 0, 'exists_time_in_millis': 0, 'missing_total': 0, 'missing_time_in_millis': 0, 'current': 0}, 'search': {'open_contexts': 0, 'query_total': 7, 'query_time_in_millis': 1, 'query_current': 0, 'fetch_total': 0, 'fetch_time_in_millis': 0, 'fetch_current': 0, 'scroll_total': 0, 'scroll_time_in_millis': 0, 'scroll_current': 0, 'suggest_total': 0, 'suggest_time_in_millis': 0, 'suggest_current': 0}, 'merges': {'current': 0, 'current_docs': 0, 'current_size_in_bytes': 0, 'total': 0, 'total_time_in_millis': 0, 'total_docs': 0, 'total_size_in_bytes': 0, 'total_stopped_time_in_millis': 0, 'total_throttled_time_in_millis': 0, 'total_auto_throttle_in_bytes': 20971520}, 'refresh': {'total': 3, 'total_time_in_millis': 0, 'external_total': 3, 'external_total_time_in_millis': 0, 'listeners': 0}, 'flush': {'total': 1, 'periodic': 1, 'total_time_in_millis': 0}, 'warmer': {'current': 0, 'total': 1, 'total_time_in_millis': 0}, 'query_cache': {'memory_size_in_bytes': 0, 'total_count': 0, 'hit_count': 0, 'miss_count': 0, 'cache_size': 0, 'cache_count': 0, 'evictions': 0}, 'fielddata': {'memory_size_in_bytes': 0, 'evictions': 0}, 'completion': {'size_in_bytes': 0}, 'segments': {'count': 0, 'memory_in_bytes': 0, 'terms_memory_in_bytes': 0, 'stored_fields_memory_in_bytes': 0, 'term_vectors_memory_in_bytes': 0, 'norms_memory_in_bytes': 0, 'points_memory_in_bytes': 0, 'doc_values_memory_in_bytes': 0, 'index_writer_memory_in_bytes': 0, 'version_map_memory_in_bytes': 0, 'fixed_bit_set_memory_in_bytes': 0, 'max_unsafe_auto_id_timestamp': -1, 'file_sizes': {}}, 'translog': {'operations': 0, 'size_in_bytes': 55, 'uncommitted_operations': 0, 'uncommitted_size_in_bytes': 55, 'earliest_last_modified_age': 593318}, 'request_cache': {'memory_size_in_bytes': 592, 'evictions': 0, 'hit_count': 6, 'miss_count': 1}, 'recovery': {'current_as_source': 0, 'current_as_target': 0, 'throttle_time_in_millis': 0}, 'bulk': {'total_operations': 0, 'total_time_in_millis': 0, 'total_size_in_bytes': 0, 'avg_time_in_millis': 0, 'avg_size_in_bytes': 0}}, 'total': {'docs': {'count': 0, 'deleted': 0}, 'shard_stats': {'total_count': 1}, 'store': {'size_in_bytes': 225, 'total_data_set_size_in_bytes': 225, 'reserved_in_bytes': 0}, 'indexing': {'index_total': 0, 'index_time_in_millis': 0, 'index_current': 0, 'index_failed': 0, 'delete_total': 0, 'delete_time_in_millis': 0, 'delete_current': 0, 'noop_update_total': 0, 'is_throttled': False, 'throttle_time_in_millis': 0, 'write_load': 0.0}, 'get': {'total': 0, 'time_in_millis': 0, 'exists_total': 0, 'exists_time_in_millis': 0, 'missing_total': 0, 'missing_time_in_millis': 0, 'current': 0}, 'search': {'open_contexts': 0, 'query_total': 7, 'query_time_in_millis': 1, 'query_current': 0, 'fetch_total': 0, 'fetch_time_in_millis': 0, 'fetch_current': 0, 'scroll_total': 0, 'scroll_time_in_millis': 0, 'scroll_current': 0, 'suggest_total': 0, 'suggest_time_in_millis': 0, 'suggest_current': 0}, 'merges': {'current': 0, 'current_docs': 0, 'current_size_in_bytes': 0, 'total': 0, 'total_time_in_millis': 0, 'total_docs': 0, 'total_size_in_bytes': 0, 'total_stopped_time_in_millis': 0, 'total_throttled_time_in_millis': 0, 'total_auto_throttle_in_bytes': 20971520}, 'refresh': {'total': 3, 'total_time_in_millis': 0, 'external_total': 3, 'external_total_time_in_millis': 0, 'listeners': 0}, 'flush': {'total': 1, 'periodic': 1, 'total_time_in_millis': 0}, 'warmer': {'current': 0, 'total': 1, 'total_time_in_millis': 0}, 'query_cache': {'memory_size_in_bytes': 0, 'total_count': 0, 'hit_count': 0, 'miss_count': 0, 'cache_size': 0, 'cache_count': 0, 'evictions': 0}, 'fielddata': {'memory_size_in_bytes': 0, 'evictions': 0}, 'completion': {'size_in_bytes': 0}, 'segments': {'count': 0, 'memory_in_bytes': 0, 'terms_memory_in_bytes': 0, 'stored_fields_memory_in_bytes': 0, 'term_vectors_memory_in_bytes': 0, 'norms_memory_in_bytes': 0, 'points_memory_in_bytes': 0, 'doc_values_memory_in_bytes': 0, 'index_writer_memory_in_bytes': 0, 'version_map_memory_in_bytes': 0, 'fixed_bit_set_memory_in_bytes': 0, 'max_unsafe_auto_id_timestamp': -1, 'file_sizes': {}}, 'translog': {'operations': 0, 'size_in_bytes': 55, 'uncommitted_operations': 0, 'uncommitted_size_in_bytes': 55, 'earliest_last_modified_age': 593318}, 'request_cache': {'memory_size_in_bytes': 592, 'evictions': 0, 'hit_count': 6, 'miss_count': 1}, 'recovery': {'current_as_source': 0, 'current_as_target': 0, 'throttle_time_in_millis': 0}, 'bulk': {'total_operations': 0, 'total_time_in_millis': 0, 'total_size_in_bytes': 0, 'avg_time_in_millis': 0, 'avg_size_in_bytes': 0}}}, 'indices': {'test-123': {'uuid': 'EtT0X61TRD6XpF7TQ-Nyog', 'health': 'yellow', 'status': 'open', 'primaries': {'docs': {'count': 0, 'deleted': 0}, 'shard_stats': {'total_count': 1}, 'store': {'size_in_bytes': 225, 'total_data_set_size_in_bytes': 225, 'reserved_in_bytes': 0}, 'indexing': {'index_total': 0, 'index_time_in_millis': 0, 'index_current': 0, 'index_failed': 0, 'delete_total': 0, 'delete_time_in_millis': 0, 'delete_current': 0, 'noop_update_total': 0, 'is_throttled': False, 'throttle_time_in_millis': 0, 'write_load': 0.0}, 'get': {'total': 0, 'time_in_millis': 0, 'exists_total': 0, 'exists_time_in_millis': 0, 'missing_total': 0, 'missing_time_in_millis': 0, 'current': 0}, 'search': {'open_contexts': 0, 'query_total': 7, 'query_time_in_millis': 1, 'query_current': 0, 'fetch_total': 0, 'fetch_time_in_millis': 0, 'fetch_current': 0, 'scroll_total': 0, 'scroll_time_in_millis': 0, 'scroll_current': 0, 'suggest_total': 0, 'suggest_time_in_millis': 0, 'suggest_current': 0}, 'merges': {'current': 0, 'current_docs': 0, 'current_size_in_bytes': 0, 'total': 0, 'total_time_in_millis': 0, 'total_docs': 0, 'total_size_in_bytes': 0, 'total_stopped_time_in_millis': 0, 'total_throttled_time_in_millis': 0, 'total_auto_throttle_in_bytes': 20971520}, 'refresh': {'total': 3, 'total_time_in_millis': 0, 'external_total': 3, 'external_total_time_in_millis': 0, 'listeners': 0}, 'flush': {'total': 1, 'periodic': 1, 'total_time_in_millis': 0}, 'warmer': {'current': 0, 'total': 1, 'total_time_in_millis': 0}, 'query_cache': {'memory_size_in_bytes': 0, 'total_count': 0, 'hit_count': 0, 'miss_count': 0, 'cache_size': 0, 'cache_count': 0, 'evictions': 0}, 'fielddata': {'memory_size_in_bytes': 0, 'evictions': 0}, 'completion': {'size_in_bytes': 0}, 'segments': {'count': 0, 'memory_in_bytes': 0, 'terms_memory_in_bytes': 0, 'stored_fields_memory_in_bytes': 0, 'term_vectors_memory_in_bytes': 0, 'norms_memory_in_bytes': 0, 'points_memory_in_bytes': 0, 'doc_values_memory_in_bytes': 0, 'index_writer_memory_in_bytes': 0, 'version_map_memory_in_bytes': 0, 'fixed_bit_set_memory_in_bytes': 0, 'max_unsafe_auto_id_timestamp': -1, 'file_sizes': {}}, 'translog': {'operations': 0, 'size_in_bytes': 55, 'uncommitted_operations': 0, 'uncommitted_size_in_bytes': 55, 'earliest_last_modified_age': 593318}, 'request_cache': {'memory_size_in_bytes': 592, 'evictions': 0, 'hit_count': 6, 'miss_count': 1}, 'recovery': {'current_as_source': 0, 'current_as_target': 0, 'throttle_time_in_millis': 0}, 'bulk': {'total_operations': 0, 'total_time_in_millis': 0, 'total_size_in_bytes': 0, 'avg_time_in_millis': 0, 'avg_size_in_bytes': 0}}, 'total': {'docs': {'count': 0, 'deleted': 0}, 'shard_stats': {'total_count': 1}, 'store': {'size_in_bytes': 225, 'total_data_set_size_in_bytes': 225, 'reserved_in_bytes': 0}, 'indexing': {'index_total': 0, 'index_time_in_millis': 0, 'index_current': 0, 'index_failed': 0, 'delete_total': 0, 'delete_time_in_millis': 0, 'delete_current': 0, 'noop_update_total': 0, 'is_throttled': False, 'throttle_time_in_millis': 0, 'write_load': 0.0}, 'get': {'total': 0, 'time_in_millis': 0, 'exists_total': 0, 'exists_time_in_millis': 0, 'missing_total': 0, 'missing_time_in_millis': 0, 'current': 0}, 'search': {'open_contexts': 0, 'query_total': 7, 'query_time_in_millis': 1, 'query_current': 0, 'fetch_total': 0, 'fetch_time_in_millis': 0, 'fetch_current': 0, 'scroll_total': 0, 'scroll_time_in_millis': 0, 'scroll_current': 0, 'suggest_total': 0, 'suggest_time_in_millis': 0, 'suggest_current': 0}, 'merges': {'current': 0, 'current_docs': 0, 'current_size_in_bytes': 0, 'total': 0, 'total_time_in_millis': 0, 'total_docs': 0, 'total_size_in_bytes': 0, 'total_stopped_time_in_millis': 0, 'total_throttled_time_in_millis': 0, 'total_auto_throttle_in_bytes': 20971520}, 'refresh': {'total': 3, 'total_time_in_millis': 0, 'external_total': 3, 'external_total_time_in_millis': 0, 'listeners': 0}, 'flush': {'total': 1, 'periodic': 1, 'total_time_in_millis': 0}, 'warmer': {'current': 0, 'total': 1, 'total_time_in_millis': 0}, 'query_cache': {'memory_size_in_bytes': 0, 'total_count': 0, 'hit_count': 0, 'miss_count': 0, 'cache_size': 0, 'cache_count': 0, 'evictions': 0}, 'fielddata': {'memory_size_in_bytes': 0, 'evictions': 0}, 'completion': {'size_in_bytes': 0}, 'segments': {'count': 0, 'memory_in_bytes': 0, 'terms_memory_in_bytes': 0, 'stored_fields_memory_in_bytes': 0, 'term_vectors_memory_in_bytes': 0, 'norms_memory_in_bytes': 0, 'points_memory_in_bytes': 0, 'doc_values_memory_in_bytes': 0, 'index_writer_memory_in_bytes': 0, 'version_map_memory_in_bytes': 0, 'fixed_bit_set_memory_in_bytes': 0, 'max_unsafe_auto_id_timestamp': -1, 'file_sizes': {}}, 'translog': {'operations': 0, 'size_in_bytes': 55, 'uncommitted_operations': 0, 'uncommitted_size_in_bytes': 55, 'earliest_last_modified_age': 593318}, 'request_cache': {'memory_size_in_bytes': 592, 'evictions': 0, 'hit_count': 6, 'miss_count': 1}, 'recovery': {'current_as_source': 0, 'current_as_target': 0, 'throttle_time_in_millis': 0}, 'bulk': {'total_operations': 0, 'total_time_in_millis': 0, 'total_size_in_bytes': 0, 'avg_time_in_millis': 0, 'avg_size_in_bytes': 0}}}}})"
      ]
     },
     "execution_count": 23,
     "metadata": {},
     "output_type": "execute_result"
    }
   ],
   "source": [
    "\n",
    "client.indices.stats(index=my_index)\n"
   ]
  },
  {
   "cell_type": "code",
   "execution_count": 37,
   "id": "6916b1a0",
   "metadata": {},
   "outputs": [
    {
     "name": "stderr",
     "output_type": "stream",
     "text": [
      "/tmp/ipykernel_140185/147764811.py:1: ElasticsearchWarning: this request accesses system indices: [.apm-agent-configuration, .kibana_security_session_1, .security-tokens-7, .security-7, .apm-custom-link, .security-profile-8, .kibana_8.7.1_001, .kibana_task_manager_8.7.1_001], but in a future major version, direct access to system indices will be prevented by default\n",
      "  aliases = client.indices.get_alias(index=\"*\", ignore_unavailable=True, )\n"
     ]
    },
    {
     "data": {
      "text/plain": [
       "dict_keys(['.kibana-event-log-8.7.1-000001', 'test-123', '.fleet-file-data-agent-000001', '.apm-agent-configuration', '.apm-source-map', '.fleet-files-agent-000001', '.kibana_security_session_1', 'kibana_sample_data_flights', '.security-tokens-7', '.security-7', '.apm-custom-link', 'kibana_sample_data_ecommerce', '.security-profile-8', '.kibana_8.7.1_001', '.kibana_task_manager_8.7.1_001'])"
      ]
     },
     "execution_count": 37,
     "metadata": {},
     "output_type": "execute_result"
    }
   ],
   "source": [
    "\n",
    "aliases = client.indices.get_alias(index=\"*\", ignore_unavailable=True, )\n",
    "\n",
    "aliases.keys()"
   ]
  },
  {
   "cell_type": "code",
   "execution_count": null,
   "id": "fd102331",
   "metadata": {},
   "outputs": [],
   "source": []
  },
  {
   "cell_type": "code",
   "execution_count": 61,
   "id": "31231ddf",
   "metadata": {},
   "outputs": [
    {
     "data": {
      "text/plain": [
       "['kibana_sample_data_logs']"
      ]
     },
     "execution_count": 61,
     "metadata": {},
     "output_type": "execute_result"
    }
   ],
   "source": [
    "datastreams = client.indices.get_data_stream(name=\"*\")\n",
    "\n",
    "datastreams.get(\"data_streams\")\n",
    "\n",
    "streams = client.indices.get_data_stream(name=\"*\").get(\"data_streams\")\n",
    "streams\n",
    "mylist = map(lambda info: info['name'], streams)\n",
    "list(mylist)"
   ]
  },
  {
   "attachments": {},
   "cell_type": "markdown",
   "id": "4439fa49",
   "metadata": {},
   "source": [
    "# From here I test ESEngine class "
   ]
  },
  {
   "cell_type": "code",
   "execution_count": 1,
   "id": "f186c741",
   "metadata": {},
   "outputs": [],
   "source": [
    "from langchain import ESEngine"
   ]
  },
  {
   "cell_type": "code",
   "execution_count": 2,
   "id": "a019231b",
   "metadata": {},
   "outputs": [],
   "source": [
    "ES_URL = \"https://test1.es.europe-north1.gcp.elastic-cloud.com:443\"\n",
    "KB_URL = \"https://test1.kb.europe-north1.gcp.elastic-cloud.com:9243\"\n",
    "\n",
    "username = \"elastic\"\n",
    "\n",
    "db = ESEngine(ES_URL, \n",
    "                       basic_auth=(username, password),\n",
    "                       http_compress=True\n",
    "                       )"
   ]
  },
  {
   "cell_type": "code",
   "execution_count": 3,
   "id": "bce84f9b",
   "metadata": {},
   "outputs": [
    {
     "data": {
      "text/plain": [
       "{'.fleet-file-data-agent-000001',\n",
       " '.fleet-files-agent-000001',\n",
       " 'kibana_sample_data_ecommerce',\n",
       " 'kibana_sample_data_flights',\n",
       " 'kibana_sample_data_logs',\n",
       " 'test-123'}"
      ]
     },
     "execution_count": 3,
     "metadata": {},
     "output_type": "execute_result"
    }
   ],
   "source": [
    "\n",
    "\n",
    "db.get_usable_index_names()"
   ]
  },
  {
   "cell_type": "code",
   "execution_count": 4,
   "id": "ec4fb2a6",
   "metadata": {},
   "outputs": [
    {
     "data": {
      "text/plain": [
       "['kibana_sample_data_logs']"
      ]
     },
     "execution_count": 4,
     "metadata": {},
     "output_type": "execute_result"
    }
   ],
   "source": [
    "db._get_datastream_names()"
   ]
  },
  {
   "cell_type": "code",
   "execution_count": 8,
   "id": "b1761563",
   "metadata": {},
   "outputs": [
    {
     "data": {
      "text/plain": [
       "['category',\n",
       " 'currency',\n",
       " 'customer_birth_date',\n",
       " 'customer_first_name',\n",
       " 'customer_full_name',\n",
       " 'customer_gender',\n",
       " 'customer_id',\n",
       " 'customer_last_name',\n",
       " 'customer_phone',\n",
       " 'day_of_week',\n",
       " 'day_of_week_i',\n",
       " 'email',\n",
       " 'event',\n",
       " 'geoip',\n",
       " 'manufacturer',\n",
       " 'order_date',\n",
       " 'order_id',\n",
       " 'products',\n",
       " 'sku',\n",
       " 'taxful_total_price',\n",
       " 'taxless_total_price',\n",
       " 'total_quantity',\n",
       " 'total_unique_products',\n",
       " 'type',\n",
       " 'user']"
      ]
     },
     "execution_count": 8,
     "metadata": {},
     "output_type": "execute_result"
    }
   ],
   "source": [
    "db.get_index_fields(index_name=\"kibana_sample_data_ecommerce\")"
   ]
  },
  {
   "cell_type": "code",
   "execution_count": 10,
   "id": "e0846761",
   "metadata": {},
   "outputs": [
    {
     "data": {
      "text/plain": [
       "ObjectApiResponse({'kibana_sample_data_ecommerce': {'mappings': {'properties': {'category': {'type': 'text', 'fields': {'keyword': {'type': 'keyword'}}}, 'currency': {'type': 'keyword'}, 'customer_birth_date': {'type': 'date'}, 'customer_first_name': {'type': 'text', 'fields': {'keyword': {'type': 'keyword', 'ignore_above': 256}}}, 'customer_full_name': {'type': 'text', 'fields': {'keyword': {'type': 'keyword', 'ignore_above': 256}}}, 'customer_gender': {'type': 'keyword'}, 'customer_id': {'type': 'keyword'}, 'customer_last_name': {'type': 'text', 'fields': {'keyword': {'type': 'keyword', 'ignore_above': 256}}}, 'customer_phone': {'type': 'keyword'}, 'day_of_week': {'type': 'keyword'}, 'day_of_week_i': {'type': 'integer'}, 'email': {'type': 'keyword'}, 'event': {'properties': {'dataset': {'type': 'keyword'}}}, 'geoip': {'properties': {'city_name': {'type': 'keyword'}, 'continent_name': {'type': 'keyword'}, 'country_iso_code': {'type': 'keyword'}, 'location': {'type': 'geo_point'}, 'region_name': {'type': 'keyword'}}}, 'manufacturer': {'type': 'text', 'fields': {'keyword': {'type': 'keyword'}}}, 'order_date': {'type': 'date'}, 'order_id': {'type': 'keyword'}, 'products': {'properties': {'_id': {'type': 'text', 'fields': {'keyword': {'type': 'keyword', 'ignore_above': 256}}}, 'base_price': {'type': 'half_float'}, 'base_unit_price': {'type': 'half_float'}, 'category': {'type': 'text', 'fields': {'keyword': {'type': 'keyword'}}}, 'created_on': {'type': 'date'}, 'discount_amount': {'type': 'half_float'}, 'discount_percentage': {'type': 'half_float'}, 'manufacturer': {'type': 'text', 'fields': {'keyword': {'type': 'keyword'}}}, 'min_price': {'type': 'half_float'}, 'price': {'type': 'half_float'}, 'product_id': {'type': 'long'}, 'product_name': {'type': 'text', 'fields': {'keyword': {'type': 'keyword'}}, 'analyzer': 'english'}, 'quantity': {'type': 'integer'}, 'sku': {'type': 'keyword'}, 'tax_amount': {'type': 'half_float'}, 'taxful_price': {'type': 'half_float'}, 'taxless_price': {'type': 'half_float'}, 'unit_discount_amount': {'type': 'half_float'}}}, 'sku': {'type': 'keyword'}, 'taxful_total_price': {'type': 'half_float'}, 'taxless_total_price': {'type': 'half_float'}, 'total_quantity': {'type': 'integer'}, 'total_unique_products': {'type': 'integer'}, 'type': {'type': 'keyword'}, 'user': {'type': 'keyword'}}}}})"
      ]
     },
     "execution_count": 10,
     "metadata": {},
     "output_type": "execute_result"
    }
   ],
   "source": [
    "db.get_index_mapping(index_name=\"kibana_sample_data_ecommerce\")"
   ]
  },
  {
   "cell_type": "code",
   "execution_count": 9,
   "id": "49e5a283",
   "metadata": {},
   "outputs": [
    {
     "ename": "NameError",
     "evalue": "name 'index_names' is not defined",
     "output_type": "error",
     "traceback": [
      "\u001b[0;31m---------------------------------------------------------------------------\u001b[0m",
      "\u001b[0;31mNameError\u001b[0m                                 Traceback (most recent call last)",
      "Cell \u001b[0;32mIn[9], line 1\u001b[0m\n\u001b[0;32m----> 1\u001b[0m db\u001b[39m.\u001b[39;49mget_index_info(indices_names\u001b[39m=\u001b[39;49m[\u001b[39m\"\u001b[39;49m\u001b[39mkibana_sample_data_ecommerce\u001b[39;49m\u001b[39m\"\u001b[39;49m])\n",
      "File \u001b[0;32m~/SA/Pawel/langchain/langchain/es_engine.py:128\u001b[0m, in \u001b[0;36mESEngine.get_index_info\u001b[0;34m(self, indices_names)\u001b[0m\n\u001b[1;32m    126\u001b[0m \u001b[39mdef\u001b[39;00m \u001b[39mget_index_info\u001b[39m(\u001b[39mself\u001b[39m, indices_names: Optional[List[\u001b[39mstr\u001b[39m]] \u001b[39m=\u001b[39m \u001b[39mNone\u001b[39;00m) \u001b[39m-\u001b[39m\u001b[39m>\u001b[39m \u001b[39mstr\u001b[39m:\n\u001b[1;32m    127\u001b[0m     \u001b[39m# TODO FIX it\u001b[39;00m\n\u001b[0;32m--> 128\u001b[0m     \u001b[39mreturn\u001b[39;00m _format_index(index_names)\n",
      "\u001b[0;31mNameError\u001b[0m: name 'index_names' is not defined"
     ]
    }
   ],
   "source": [
    "db.get_index_info(indices_names=[\"kibana_sample_data_ecommerce\"])"
   ]
  },
  {
   "attachments": {},
   "cell_type": "markdown",
   "id": "ad708553",
   "metadata": {},
   "source": [
    "# END OF MY TEST. Following code to be reused later"
   ]
  },
  {
   "cell_type": "code",
   "execution_count": 5,
   "id": "248b652a",
   "metadata": {},
   "outputs": [],
   "source": [
    "prompt = PromptTemplate(template=\"What is the capital of {state}?\", input_variables=[\"state\"])\n",
    "model_lab_with_prompt = ModelLaboratory.from_llms(llms, prompt=prompt)"
   ]
  },
  {
   "cell_type": "code",
   "execution_count": 6,
   "id": "f64377ac",
   "metadata": {},
   "outputs": [
    {
     "name": "stdout",
     "output_type": "stream",
     "text": [
      "\u001b[1mInput:\u001b[0m\n",
      "New York\n",
      "\n",
      "\u001b[1mOpenAI\u001b[0m\n",
      "Params: {'model': 'text-davinci-002', 'temperature': 0.0, 'max_tokens': 256, 'top_p': 1, 'frequency_penalty': 0, 'presence_penalty': 0, 'n': 1, 'best_of': 1}\n",
      "\u001b[36;1m\u001b[1;3m\n",
      "\n",
      "The capital of New York is Albany.\u001b[0m\n",
      "\n",
      "\u001b[1mCohere\u001b[0m\n",
      "Params: {'model': 'command-xlarge-20221108', 'max_tokens': 20, 'temperature': 0.0, 'k': 0, 'p': 1, 'frequency_penalty': 0, 'presence_penalty': 0}\n",
      "\u001b[33;1m\u001b[1;3m\n",
      "\n",
      "The capital of New York is Albany.\u001b[0m\n",
      "\n",
      "\u001b[1mHuggingFaceHub\u001b[0m\n",
      "Params: {'repo_id': 'google/flan-t5-xl', 'temperature': 1}\n",
      "\u001b[38;5;200m\u001b[1;3mst john s\u001b[0m\n",
      "\n"
     ]
    }
   ],
   "source": [
    "model_lab_with_prompt.compare(\"New York\")"
   ]
  },
  {
   "cell_type": "code",
   "execution_count": 7,
   "id": "54336dbf",
   "metadata": {},
   "outputs": [],
   "source": [
    "from langchain import SelfAskWithSearchChain, SerpAPIWrapper\n",
    "\n",
    "open_ai_llm = OpenAI(temperature=0)\n",
    "search = SerpAPIWrapper()\n",
    "self_ask_with_search_openai = SelfAskWithSearchChain(llm=open_ai_llm, search_chain=search, verbose=True)\n",
    "\n",
    "cohere_llm = Cohere(temperature=0, model=\"command-xlarge-20221108\")\n",
    "search = SerpAPIWrapper()\n",
    "self_ask_with_search_cohere = SelfAskWithSearchChain(llm=cohere_llm, search_chain=search, verbose=True)"
   ]
  },
  {
   "cell_type": "code",
   "execution_count": 8,
   "id": "6a50a9f1",
   "metadata": {},
   "outputs": [],
   "source": [
    "chains = [self_ask_with_search_openai, self_ask_with_search_cohere]\n",
    "names = [str(open_ai_llm), str(cohere_llm)]"
   ]
  },
  {
   "cell_type": "code",
   "execution_count": 9,
   "id": "d3549e99",
   "metadata": {},
   "outputs": [],
   "source": [
    "model_lab = ModelLaboratory(chains, names=names)"
   ]
  },
  {
   "cell_type": "code",
   "execution_count": 10,
   "id": "362f7f57",
   "metadata": {},
   "outputs": [
    {
     "name": "stdout",
     "output_type": "stream",
     "text": [
      "\u001b[1mInput:\u001b[0m\n",
      "What is the hometown of the reigning men's U.S. Open champion?\n",
      "\n",
      "\u001b[1mOpenAI\u001b[0m\n",
      "Params: {'model': 'text-davinci-002', 'temperature': 0.0, 'max_tokens': 256, 'top_p': 1, 'frequency_penalty': 0, 'presence_penalty': 0, 'n': 1, 'best_of': 1}\n",
      "\n",
      "\n",
      "\u001b[1m> Entering new chain...\u001b[0m\n",
      "What is the hometown of the reigning men's U.S. Open champion?\n",
      "Are follow up questions needed here:\u001b[32;1m\u001b[1;3m Yes.\n",
      "Follow up: Who is the reigning men's U.S. Open champion?\u001b[0m\n",
      "Intermediate answer: \u001b[33;1m\u001b[1;3mCarlos Alcaraz.\u001b[0m\u001b[32;1m\u001b[1;3m\n",
      "Follow up: Where is Carlos Alcaraz from?\u001b[0m\n",
      "Intermediate answer: \u001b[33;1m\u001b[1;3mEl Palmar, Spain.\u001b[0m\u001b[32;1m\u001b[1;3m\n",
      "So the final answer is: El Palmar, Spain\u001b[0m\n",
      "\u001b[1m> Finished chain.\u001b[0m\n",
      "\u001b[36;1m\u001b[1;3m\n",
      "So the final answer is: El Palmar, Spain\u001b[0m\n",
      "\n",
      "\u001b[1mCohere\u001b[0m\n",
      "Params: {'model': 'command-xlarge-20221108', 'max_tokens': 256, 'temperature': 0.0, 'k': 0, 'p': 1, 'frequency_penalty': 0, 'presence_penalty': 0}\n",
      "\n",
      "\n",
      "\u001b[1m> Entering new chain...\u001b[0m\n",
      "What is the hometown of the reigning men's U.S. Open champion?\n",
      "Are follow up questions needed here:\u001b[32;1m\u001b[1;3m Yes.\n",
      "Follow up: Who is the reigning men's U.S. Open champion?\u001b[0m\n",
      "Intermediate answer: \u001b[33;1m\u001b[1;3mCarlos Alcaraz.\u001b[0m\u001b[32;1m\u001b[1;3m\n",
      "So the final answer is:\n",
      "\n",
      "Carlos Alcaraz\u001b[0m\n",
      "\u001b[1m> Finished chain.\u001b[0m\n",
      "\u001b[33;1m\u001b[1;3m\n",
      "So the final answer is:\n",
      "\n",
      "Carlos Alcaraz\u001b[0m\n",
      "\n"
     ]
    }
   ],
   "source": [
    "model_lab.compare(\"What is the hometown of the reigning men's U.S. Open champion?\")"
   ]
  },
  {
   "cell_type": "code",
   "execution_count": null,
   "id": "94159131",
   "metadata": {},
   "outputs": [],
   "source": []
  }
 ],
 "metadata": {
  "kernelspec": {
   "display_name": "Python 3 (ipykernel)",
   "language": "python",
   "name": "python3"
  },
  "language_info": {
   "codemirror_mode": {
    "name": "ipython",
    "version": 3
   },
   "file_extension": ".py",
   "mimetype": "text/x-python",
   "name": "python",
   "nbconvert_exporter": "python",
   "pygments_lexer": "ipython3",
   "version": "3.10.6"
  }
 },
 "nbformat": 4,
 "nbformat_minor": 5
}
