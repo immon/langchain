{
 "cells": [
  {
   "attachments": {},
   "cell_type": "markdown",
   "id": "920a3c1a",
   "metadata": {},
   "source": [
    "# Elasticsearch playground\n",
    "\n",
    "Jupyther notebook to play with Elasticsearch in general.\n",
    "Connect to the cluster, play with queries, play with LLMChains.\n",
    "\n"
   ]
  },
  {
   "cell_type": "code",
   "execution_count": 20,
   "id": "ab9e95ad",
   "metadata": {},
   "outputs": [],
   "source": [
    "import os\n",
    "from langchain import LLMChain, OpenAI, Cohere, HuggingFaceHub, PromptTemplate\n",
    "#from langchain.model_laboratory import ModelLaboratory\n",
    "\n",
    "from elasticsearch import Elasticsearch\n",
    "\n",
    "    "
   ]
  },
  {
   "attachments": {},
   "cell_type": "markdown",
   "id": "72e2cc38",
   "metadata": {},
   "source": [
    "## Cluster credentials and URL"
   ]
  },
  {
   "cell_type": "code",
   "execution_count": 18,
   "id": "f603a5f0",
   "metadata": {},
   "outputs": [],
   "source": [
    "\n",
    "ES_URL = os.environ.get(\"ES_URL\", \"https://test1.es.europe-north1.gcp.elastic-cloud.com:443\")\n",
    "KB_URL = os.environ.get(\"KB_URL\", \"https://test1.kb.europe-north1.gcp.elastic-cloud.com:9243\")\n",
    "\n",
    "username = \"elastic\"\n",
    "password = os.environ.get(\"ES_PASSWORD\", \"\")"
   ]
  },
  {
   "attachments": {},
   "cell_type": "markdown",
   "id": "00aee57a",
   "metadata": {},
   "source": [
    "# Connect to the cluster in Elastic Cloud"
   ]
  },
  {
   "cell_type": "code",
   "execution_count": 21,
   "id": "32cb94e6",
   "metadata": {},
   "outputs": [
    {
     "data": {
      "text/plain": [
       "ObjectApiResponse({'name': 'instance-0000000000', 'cluster_name': '24ee0a66ae1544e3958cd6069dd0e626', 'cluster_uuid': 'rCAnFuk1QZ27xyXaBlvouQ', 'version': {'number': '8.7.1', 'build_flavor': 'default', 'build_type': 'docker', 'build_hash': 'f229ed3f893a515d590d0f39b05f68913e2d9b53', 'build_date': '2023-04-27T04:33:42.127815583Z', 'build_snapshot': False, 'lucene_version': '9.5.0', 'minimum_wire_compatibility_version': '7.17.0', 'minimum_index_compatibility_version': '7.0.0'}, 'tagline': 'You Know, for Search'})"
      ]
     },
     "execution_count": 21,
     "metadata": {},
     "output_type": "execute_result"
    }
   ],
   "source": [
    "client = Elasticsearch(ES_URL,\n",
    "                       basic_auth=(username, password),\n",
    "                       http_compress=True\n",
    "                       )\n",
    "\n",
    "client.info()"
   ]
  },
  {
   "attachments": {},
   "cell_type": "markdown",
   "id": "4bc768be",
   "metadata": {},
   "source": [
    "# Use Elasticsearch API"
   ]
  },
  {
   "cell_type": "code",
   "execution_count": 13,
   "id": "8cc1393f",
   "metadata": {},
   "outputs": [
    {
     "data": {
      "text/plain": [
       "ObjectApiResponse({'count': 31808, '_shards': {'total': 6, 'successful': 6, 'skipped': 0, 'failed': 0}})"
      ]
     },
     "execution_count": 13,
     "metadata": {},
     "output_type": "execute_result"
    }
   ],
   "source": [
    "my_index = \"test-123\"\n",
    "\n",
    "index_settings = { \"number_of_shards\": 1 }\n",
    "index_mappings = {\n",
    "        \"properties\": {\n",
    "            \"name\": { \"type\": \"text\"},\n",
    "            \"foo\": { \"type\": \"keyword\" }\n",
    "            }\n",
    "}\n",
    "\n",
    "#client.options(ignore_status=400).indices.delete(index=my_index)\n",
    "client.options(ignore_status=400).indices.create(index=my_index, mappings=index_mappings, settings=index_settings)\n",
    "\n",
    "# client.indices.refresh(index=my_index)\n",
    "\n",
    "client.count(index=\"*\")\n"
   ]
  },
  {
   "cell_type": "code",
   "execution_count": 14,
   "id": "21a38566",
   "metadata": {},
   "outputs": [
    {
     "data": {
      "text/plain": [
       "ObjectApiResponse({'test-123': {'mappings': {'properties': {'foo': {'type': 'keyword'}, 'name': {'type': 'text'}}}}})"
      ]
     },
     "execution_count": 14,
     "metadata": {},
     "output_type": "execute_result"
    }
   ],
   "source": [
    "client.indices.get_mapping(index=my_index)\n"
   ]
  },
  {
   "cell_type": "code",
   "execution_count": 18,
   "id": "14cde09d",
   "metadata": {},
   "outputs": [
    {
     "data": {
      "text/plain": [
       "ObjectApiResponse({'_shards': {'total': 2, 'successful': 1, 'failed': 0}, '_all': {'primaries': {'docs': {'count': 0, 'deleted': 0}, 'shard_stats': {'total_count': 1}, 'store': {'size_in_bytes': 225, 'total_data_set_size_in_bytes': 225, 'reserved_in_bytes': 0}, 'indexing': {'index_total': 0, 'index_time_in_millis': 0, 'index_current': 0, 'index_failed': 0, 'delete_total': 0, 'delete_time_in_millis': 0, 'delete_current': 0, 'noop_update_total': 0, 'is_throttled': False, 'throttle_time_in_millis': 0, 'write_load': 0.0}, 'get': {'total': 0, 'time_in_millis': 0, 'exists_total': 0, 'exists_time_in_millis': 0, 'missing_total': 0, 'missing_time_in_millis': 0, 'current': 0}, 'search': {'open_contexts': 0, 'query_total': 3, 'query_time_in_millis': 0, 'query_current': 0, 'fetch_total': 0, 'fetch_time_in_millis': 0, 'fetch_current': 0, 'scroll_total': 0, 'scroll_time_in_millis': 0, 'scroll_current': 0, 'suggest_total': 0, 'suggest_time_in_millis': 0, 'suggest_current': 0}, 'merges': {'current': 0, 'current_docs': 0, 'current_size_in_bytes': 0, 'total': 0, 'total_time_in_millis': 0, 'total_docs': 0, 'total_size_in_bytes': 0, 'total_stopped_time_in_millis': 0, 'total_throttled_time_in_millis': 0, 'total_auto_throttle_in_bytes': 20971520}, 'refresh': {'total': 2, 'total_time_in_millis': 0, 'external_total': 2, 'external_total_time_in_millis': 0, 'listeners': 0}, 'flush': {'total': 0, 'periodic': 0, 'total_time_in_millis': 0}, 'warmer': {'current': 0, 'total': 1, 'total_time_in_millis': 0}, 'query_cache': {'memory_size_in_bytes': 0, 'total_count': 0, 'hit_count': 0, 'miss_count': 0, 'cache_size': 0, 'cache_count': 0, 'evictions': 0}, 'fielddata': {'memory_size_in_bytes': 0, 'evictions': 0}, 'completion': {'size_in_bytes': 0}, 'segments': {'count': 0, 'memory_in_bytes': 0, 'terms_memory_in_bytes': 0, 'stored_fields_memory_in_bytes': 0, 'term_vectors_memory_in_bytes': 0, 'norms_memory_in_bytes': 0, 'points_memory_in_bytes': 0, 'doc_values_memory_in_bytes': 0, 'index_writer_memory_in_bytes': 0, 'version_map_memory_in_bytes': 0, 'fixed_bit_set_memory_in_bytes': 0, 'max_unsafe_auto_id_timestamp': -1, 'file_sizes': {}}, 'translog': {'operations': 0, 'size_in_bytes': 55, 'uncommitted_operations': 0, 'uncommitted_size_in_bytes': 55, 'earliest_last_modified_age': 70381}, 'request_cache': {'memory_size_in_bytes': 592, 'evictions': 0, 'hit_count': 2, 'miss_count': 1}, 'recovery': {'current_as_source': 0, 'current_as_target': 0, 'throttle_time_in_millis': 0}, 'bulk': {'total_operations': 0, 'total_time_in_millis': 0, 'total_size_in_bytes': 0, 'avg_time_in_millis': 0, 'avg_size_in_bytes': 0}}, 'total': {'docs': {'count': 0, 'deleted': 0}, 'shard_stats': {'total_count': 1}, 'store': {'size_in_bytes': 225, 'total_data_set_size_in_bytes': 225, 'reserved_in_bytes': 0}, 'indexing': {'index_total': 0, 'index_time_in_millis': 0, 'index_current': 0, 'index_failed': 0, 'delete_total': 0, 'delete_time_in_millis': 0, 'delete_current': 0, 'noop_update_total': 0, 'is_throttled': False, 'throttle_time_in_millis': 0, 'write_load': 0.0}, 'get': {'total': 0, 'time_in_millis': 0, 'exists_total': 0, 'exists_time_in_millis': 0, 'missing_total': 0, 'missing_time_in_millis': 0, 'current': 0}, 'search': {'open_contexts': 0, 'query_total': 3, 'query_time_in_millis': 0, 'query_current': 0, 'fetch_total': 0, 'fetch_time_in_millis': 0, 'fetch_current': 0, 'scroll_total': 0, 'scroll_time_in_millis': 0, 'scroll_current': 0, 'suggest_total': 0, 'suggest_time_in_millis': 0, 'suggest_current': 0}, 'merges': {'current': 0, 'current_docs': 0, 'current_size_in_bytes': 0, 'total': 0, 'total_time_in_millis': 0, 'total_docs': 0, 'total_size_in_bytes': 0, 'total_stopped_time_in_millis': 0, 'total_throttled_time_in_millis': 0, 'total_auto_throttle_in_bytes': 20971520}, 'refresh': {'total': 2, 'total_time_in_millis': 0, 'external_total': 2, 'external_total_time_in_millis': 0, 'listeners': 0}, 'flush': {'total': 0, 'periodic': 0, 'total_time_in_millis': 0}, 'warmer': {'current': 0, 'total': 1, 'total_time_in_millis': 0}, 'query_cache': {'memory_size_in_bytes': 0, 'total_count': 0, 'hit_count': 0, 'miss_count': 0, 'cache_size': 0, 'cache_count': 0, 'evictions': 0}, 'fielddata': {'memory_size_in_bytes': 0, 'evictions': 0}, 'completion': {'size_in_bytes': 0}, 'segments': {'count': 0, 'memory_in_bytes': 0, 'terms_memory_in_bytes': 0, 'stored_fields_memory_in_bytes': 0, 'term_vectors_memory_in_bytes': 0, 'norms_memory_in_bytes': 0, 'points_memory_in_bytes': 0, 'doc_values_memory_in_bytes': 0, 'index_writer_memory_in_bytes': 0, 'version_map_memory_in_bytes': 0, 'fixed_bit_set_memory_in_bytes': 0, 'max_unsafe_auto_id_timestamp': -1, 'file_sizes': {}}, 'translog': {'operations': 0, 'size_in_bytes': 55, 'uncommitted_operations': 0, 'uncommitted_size_in_bytes': 55, 'earliest_last_modified_age': 70381}, 'request_cache': {'memory_size_in_bytes': 592, 'evictions': 0, 'hit_count': 2, 'miss_count': 1}, 'recovery': {'current_as_source': 0, 'current_as_target': 0, 'throttle_time_in_millis': 0}, 'bulk': {'total_operations': 0, 'total_time_in_millis': 0, 'total_size_in_bytes': 0, 'avg_time_in_millis': 0, 'avg_size_in_bytes': 0}}}, 'indices': {'test-123': {'uuid': 'kKwWJw_QRZ2H17RcrcFMgA', 'health': 'yellow', 'status': 'open', 'primaries': {'docs': {'count': 0, 'deleted': 0}, 'shard_stats': {'total_count': 1}, 'store': {'size_in_bytes': 225, 'total_data_set_size_in_bytes': 225, 'reserved_in_bytes': 0}, 'indexing': {'index_total': 0, 'index_time_in_millis': 0, 'index_current': 0, 'index_failed': 0, 'delete_total': 0, 'delete_time_in_millis': 0, 'delete_current': 0, 'noop_update_total': 0, 'is_throttled': False, 'throttle_time_in_millis': 0, 'write_load': 0.0}, 'get': {'total': 0, 'time_in_millis': 0, 'exists_total': 0, 'exists_time_in_millis': 0, 'missing_total': 0, 'missing_time_in_millis': 0, 'current': 0}, 'search': {'open_contexts': 0, 'query_total': 3, 'query_time_in_millis': 0, 'query_current': 0, 'fetch_total': 0, 'fetch_time_in_millis': 0, 'fetch_current': 0, 'scroll_total': 0, 'scroll_time_in_millis': 0, 'scroll_current': 0, 'suggest_total': 0, 'suggest_time_in_millis': 0, 'suggest_current': 0}, 'merges': {'current': 0, 'current_docs': 0, 'current_size_in_bytes': 0, 'total': 0, 'total_time_in_millis': 0, 'total_docs': 0, 'total_size_in_bytes': 0, 'total_stopped_time_in_millis': 0, 'total_throttled_time_in_millis': 0, 'total_auto_throttle_in_bytes': 20971520}, 'refresh': {'total': 2, 'total_time_in_millis': 0, 'external_total': 2, 'external_total_time_in_millis': 0, 'listeners': 0}, 'flush': {'total': 0, 'periodic': 0, 'total_time_in_millis': 0}, 'warmer': {'current': 0, 'total': 1, 'total_time_in_millis': 0}, 'query_cache': {'memory_size_in_bytes': 0, 'total_count': 0, 'hit_count': 0, 'miss_count': 0, 'cache_size': 0, 'cache_count': 0, 'evictions': 0}, 'fielddata': {'memory_size_in_bytes': 0, 'evictions': 0}, 'completion': {'size_in_bytes': 0}, 'segments': {'count': 0, 'memory_in_bytes': 0, 'terms_memory_in_bytes': 0, 'stored_fields_memory_in_bytes': 0, 'term_vectors_memory_in_bytes': 0, 'norms_memory_in_bytes': 0, 'points_memory_in_bytes': 0, 'doc_values_memory_in_bytes': 0, 'index_writer_memory_in_bytes': 0, 'version_map_memory_in_bytes': 0, 'fixed_bit_set_memory_in_bytes': 0, 'max_unsafe_auto_id_timestamp': -1, 'file_sizes': {}}, 'translog': {'operations': 0, 'size_in_bytes': 55, 'uncommitted_operations': 0, 'uncommitted_size_in_bytes': 55, 'earliest_last_modified_age': 70381}, 'request_cache': {'memory_size_in_bytes': 592, 'evictions': 0, 'hit_count': 2, 'miss_count': 1}, 'recovery': {'current_as_source': 0, 'current_as_target': 0, 'throttle_time_in_millis': 0}, 'bulk': {'total_operations': 0, 'total_time_in_millis': 0, 'total_size_in_bytes': 0, 'avg_time_in_millis': 0, 'avg_size_in_bytes': 0}}, 'total': {'docs': {'count': 0, 'deleted': 0}, 'shard_stats': {'total_count': 1}, 'store': {'size_in_bytes': 225, 'total_data_set_size_in_bytes': 225, 'reserved_in_bytes': 0}, 'indexing': {'index_total': 0, 'index_time_in_millis': 0, 'index_current': 0, 'index_failed': 0, 'delete_total': 0, 'delete_time_in_millis': 0, 'delete_current': 0, 'noop_update_total': 0, 'is_throttled': False, 'throttle_time_in_millis': 0, 'write_load': 0.0}, 'get': {'total': 0, 'time_in_millis': 0, 'exists_total': 0, 'exists_time_in_millis': 0, 'missing_total': 0, 'missing_time_in_millis': 0, 'current': 0}, 'search': {'open_contexts': 0, 'query_total': 3, 'query_time_in_millis': 0, 'query_current': 0, 'fetch_total': 0, 'fetch_time_in_millis': 0, 'fetch_current': 0, 'scroll_total': 0, 'scroll_time_in_millis': 0, 'scroll_current': 0, 'suggest_total': 0, 'suggest_time_in_millis': 0, 'suggest_current': 0}, 'merges': {'current': 0, 'current_docs': 0, 'current_size_in_bytes': 0, 'total': 0, 'total_time_in_millis': 0, 'total_docs': 0, 'total_size_in_bytes': 0, 'total_stopped_time_in_millis': 0, 'total_throttled_time_in_millis': 0, 'total_auto_throttle_in_bytes': 20971520}, 'refresh': {'total': 2, 'total_time_in_millis': 0, 'external_total': 2, 'external_total_time_in_millis': 0, 'listeners': 0}, 'flush': {'total': 0, 'periodic': 0, 'total_time_in_millis': 0}, 'warmer': {'current': 0, 'total': 1, 'total_time_in_millis': 0}, 'query_cache': {'memory_size_in_bytes': 0, 'total_count': 0, 'hit_count': 0, 'miss_count': 0, 'cache_size': 0, 'cache_count': 0, 'evictions': 0}, 'fielddata': {'memory_size_in_bytes': 0, 'evictions': 0}, 'completion': {'size_in_bytes': 0}, 'segments': {'count': 0, 'memory_in_bytes': 0, 'terms_memory_in_bytes': 0, 'stored_fields_memory_in_bytes': 0, 'term_vectors_memory_in_bytes': 0, 'norms_memory_in_bytes': 0, 'points_memory_in_bytes': 0, 'doc_values_memory_in_bytes': 0, 'index_writer_memory_in_bytes': 0, 'version_map_memory_in_bytes': 0, 'fixed_bit_set_memory_in_bytes': 0, 'max_unsafe_auto_id_timestamp': -1, 'file_sizes': {}}, 'translog': {'operations': 0, 'size_in_bytes': 55, 'uncommitted_operations': 0, 'uncommitted_size_in_bytes': 55, 'earliest_last_modified_age': 70381}, 'request_cache': {'memory_size_in_bytes': 592, 'evictions': 0, 'hit_count': 2, 'miss_count': 1}, 'recovery': {'current_as_source': 0, 'current_as_target': 0, 'throttle_time_in_millis': 0}, 'bulk': {'total_operations': 0, 'total_time_in_millis': 0, 'total_size_in_bytes': 0, 'avg_time_in_millis': 0, 'avg_size_in_bytes': 0}}}}})"
      ]
     },
     "execution_count": 18,
     "metadata": {},
     "output_type": "execute_result"
    }
   ],
   "source": [
    "\n",
    "client.indices.stats(index=my_index)\n"
   ]
  },
  {
   "cell_type": "code",
   "execution_count": 17,
   "id": "6916b1a0",
   "metadata": {},
   "outputs": [
    {
     "ename": "NameError",
     "evalue": "name 'client' is not defined",
     "output_type": "error",
     "traceback": [
      "\u001b[0;31m---------------------------------------------------------------------------\u001b[0m",
      "\u001b[0;31mNameError\u001b[0m                                 Traceback (most recent call last)",
      "Cell \u001b[0;32mIn[17], line 1\u001b[0m\n\u001b[0;32m----> 1\u001b[0m aliases \u001b[39m=\u001b[39m client\u001b[39m.\u001b[39mindices\u001b[39m.\u001b[39mget_alias(index\u001b[39m=\u001b[39m\u001b[39m\"\u001b[39m\u001b[39m*\u001b[39m\u001b[39m\"\u001b[39m, ignore_unavailable\u001b[39m=\u001b[39m\u001b[39mTrue\u001b[39;00m, )\n\u001b[1;32m      3\u001b[0m aliases\u001b[39m.\u001b[39mkeys()\n",
      "\u001b[0;31mNameError\u001b[0m: name 'client' is not defined"
     ]
    }
   ],
   "source": [
    "\n",
    "aliases = client.indices.get_alias(index=\"*\", ignore_unavailable=True, )\n",
    "\n",
    "aliases.keys()"
   ]
  },
  {
   "cell_type": "code",
   "execution_count": null,
   "id": "31231ddf",
   "metadata": {},
   "outputs": [
    {
     "data": {
      "text/plain": [
       "['kibana_sample_data_logs']"
      ]
     },
     "execution_count": 61,
     "metadata": {},
     "output_type": "execute_result"
    }
   ],
   "source": [
    "datastreams = client.indices.get_data_stream(name=\"*\")\n",
    "\n",
    "datastreams.get(\"data_streams\")\n",
    "\n",
    "streams = client.indices.get_data_stream(name=\"*\").get(\"data_streams\")\n",
    "streams\n",
    "mylist = map(lambda info: info['name'], streams)\n",
    "list(mylist)"
   ]
  },
  {
   "attachments": {},
   "cell_type": "markdown",
   "id": "4439fa49",
   "metadata": {},
   "source": [
    "# From here I test Elasticsearch Agent"
   ]
  },
  {
   "cell_type": "code",
   "execution_count": 1,
   "id": "f186c741",
   "metadata": {},
   "outputs": [],
   "source": [
    "import os\n",
    "#os.environ[\"LANGCHAIN_HANDLER\"] = \"langchain\"\n",
    "#os.environ[\"LANGCHAIN_TRACING\"] = \"true\"\n",
    "#os.environ[\"LANGCHAIN_SESSION\"] = \"my_session\" # Make sure this session actually exists. You can create a new session in the UI.\n",
    "\n",
    "from langchain import OpenAI, ESEngine, ESChain\n",
    "from langchain.chat_models import ChatOpenAI\n",
    "\n",
    "ES_URL = os.environ.get(\"ES_URL\", \"https://test1.es.europe-north1.gcp.elastic-cloud.com:443\")\n",
    "KB_URL = os.environ.get(\"KB_URL\", \"https://test1.kb.europe-north1.gcp.elastic-cloud.com:9243\")\n",
    "\n",
    "username = \"elastic\"\n",
    "password = os.environ.get(\"ES_PASSWORD\", \"\")\n",
    "\n",
    "db = ESEngine.from_uri(ES_URL, \n",
    "                       connection_args={\n",
    "                           \"basic_auth\": (username, password),\n",
    "                           \"http_compress\": True,\n",
    "                       },\n",
    "                       sample_docs_in_index_info = 0,\n",
    "                       )\n",
    "\n"
   ]
  },
  {
   "cell_type": "code",
   "execution_count": 3,
   "id": "396c445b",
   "metadata": {},
   "outputs": [
    {
     "ename": "TypeError",
     "evalue": "'dict_keys' object is not subscriptable",
     "output_type": "error",
     "traceback": [
      "\u001b[0;31m---------------------------------------------------------------------------\u001b[0m",
      "\u001b[0;31mTypeError\u001b[0m                                 Traceback (most recent call last)",
      "Cell \u001b[0;32mIn[3], line 6\u001b[0m\n\u001b[1;32m      1\u001b[0m \u001b[39m#db.get_usable_index_names()\u001b[39;00m\n\u001b[1;32m      2\u001b[0m \u001b[39m#db._get_datastream_names()\u001b[39;00m\n\u001b[1;32m      3\u001b[0m \u001b[39m#db.get_index_fields(index_name=\"kibana_sample_data_ecommerce\")\u001b[39;00m\n\u001b[1;32m      4\u001b[0m \u001b[39m#db._get_sample_docs(index_name=\"kibana_sample_data_ecommerce\")\u001b[39;00m\n\u001b[1;32m      5\u001b[0m \u001b[39m#print(db.get_index_info(index_names=[\"kibana_sample_data_ecommerce\"]))\u001b[39;00m\n\u001b[0;32m----> 6\u001b[0m \u001b[39mprint\u001b[39m(db\u001b[39m.\u001b[39;49mget_index_info(index_names\u001b[39m=\u001b[39;49m[\u001b[39m\"\u001b[39;49m\u001b[39mkibana_sample_data_logs\u001b[39;49m\u001b[39m\"\u001b[39;49m]))\n\u001b[1;32m      7\u001b[0m \u001b[39m#print(db.get_index_fields(index_name=\"kibana_sample_data_logs\"))\u001b[39;00m\n\u001b[1;32m      8\u001b[0m \u001b[39m#print(db.get_index_mapping(index_name=\"kibana_sample_data_logs\"))\u001b[39;00m\n\u001b[1;32m      9\u001b[0m \u001b[39m#print(db.get_index_info())\u001b[39;00m\n",
      "File \u001b[0;32m~/SA/Pawel/langchain/langchain/es_engine.py:150\u001b[0m, in \u001b[0;36mESEngine.get_index_info\u001b[0;34m(self, index_names)\u001b[0m\n\u001b[1;32m    147\u001b[0m     \u001b[39mcontinue\u001b[39;00m\n\u001b[1;32m    149\u001b[0m \u001b[39m# Dump index name and fields\u001b[39;00m\n\u001b[0;32m--> 150\u001b[0m index_info \u001b[39m=\u001b[39m \u001b[39mf\u001b[39m\u001b[39m\"\u001b[39m\u001b[39mIndex: \u001b[39m\u001b[39m{\u001b[39;00mindex\u001b[39m}\u001b[39;00m\u001b[39m\\n\u001b[39;00m\u001b[39mFields: \u001b[39m\u001b[39m{\u001b[39;00m\u001b[39mself\u001b[39;49m\u001b[39m.\u001b[39;49mget_index_fields(index_name\u001b[39m=\u001b[39;49mindex)\u001b[39m}\u001b[39;00m\u001b[39m\\n\u001b[39;00m\u001b[39m\"\u001b[39m\n\u001b[1;32m    152\u001b[0m has_extra_info \u001b[39m=\u001b[39m (\n\u001b[1;32m    153\u001b[0m     \u001b[39mself\u001b[39m\u001b[39m.\u001b[39m_sample_docs_in_index_info \u001b[39m>\u001b[39m \u001b[39m0\u001b[39m\n\u001b[1;32m    154\u001b[0m )\n\u001b[1;32m    155\u001b[0m \u001b[39mif\u001b[39;00m has_extra_info:\n",
      "File \u001b[0;32m~/SA/Pawel/langchain/langchain/es_engine.py:204\u001b[0m, in \u001b[0;36mESEngine.get_index_fields\u001b[0;34m(self, index_name)\u001b[0m\n\u001b[1;32m    202\u001b[0m returned_indices \u001b[39m=\u001b[39m mapping\u001b[39m.\u001b[39mkeys()\n\u001b[1;32m    203\u001b[0m \u001b[39mif\u001b[39;00m \u001b[39mlen\u001b[39m(returned_indices):\n\u001b[0;32m--> 204\u001b[0m     mapping \u001b[39m=\u001b[39m mapping\u001b[39m.\u001b[39mget(returned_indices[\u001b[39m0\u001b[39;49m], {})\u001b[39m.\u001b[39mget(\u001b[39m\"\u001b[39m\u001b[39mmappings\u001b[39m\u001b[39m\"\u001b[39m, {})\u001b[39m.\u001b[39mget(\u001b[39m\"\u001b[39m\u001b[39mproperties\u001b[39m\u001b[39m\"\u001b[39m, {})\n\u001b[1;32m    205\u001b[0m \u001b[39melse\u001b[39;00m:\n\u001b[1;32m    206\u001b[0m     mapping \u001b[39m=\u001b[39m {}\n",
      "\u001b[0;31mTypeError\u001b[0m: 'dict_keys' object is not subscriptable"
     ]
    }
   ],
   "source": [
    "#db.get_usable_index_names()\n",
    "#db._get_datastream_names()\n",
    "#db.get_index_fields(index_name=\"kibana_sample_data_ecommerce\")\n",
    "#db._get_sample_docs(index_name=\"kibana_sample_data_ecommerce\")\n",
    "#print(db.get_index_info(index_names=[\"kibana_sample_data_ecommerce\"]))\n",
    "print(db.get_index_info(index_names=[\"kibana_sample_data_logs\"]))\n",
    "#print(db.get_index_fields(index_name=\"kibana_sample_data_logs\"))\n",
    "#print(db.get_index_mapping(index_name=\"kibana_sample_data_logs\"))\n",
    "#print(db.get_index_info())\n"
   ]
  },
  {
   "cell_type": "code",
   "execution_count": 3,
   "id": "f5c8f952",
   "metadata": {},
   "outputs": [],
   "source": [
    "\n",
    "from langchain.agents import create_elasticsearch_agent\n",
    "from langchain.agents.agent_toolkits import ElasticsearchDatastoreToolkit\n",
    "from langchain.agents.agent_toolkits import SQLDatabaseToolkit\n",
    "from langchain.es_engine import ESEngine\n",
    "from langchain.llms.openai import OpenAI\n",
    "from langchain.agents import AgentExecutor\n",
    "\n",
    "#db = ESEngine.from_uri(\"sqlite:///../../../../notebooks/Chinook.db\")\n",
    "llm = OpenAI(temperature=0, verbose=True)\n",
    "toolkit = ElasticsearchDatastoreToolkit(db=db, llm=llm)\n",
    "\n",
    "agent_executor = create_elasticsearch_agent(\n",
    "    llm=OpenAI(temperature=0, verbose=True),\n",
    "    toolkit=toolkit,\n",
    "    top_k=0,\n",
    "    verbose=True\n",
    ")\n"
   ]
  },
  {
   "cell_type": "code",
   "execution_count": 4,
   "id": "fbfc631e",
   "metadata": {},
   "outputs": [],
   "source": [
    "#agent_executor.run(\"Describe ecommerce index.\")"
   ]
  },
  {
   "cell_type": "code",
   "execution_count": 5,
   "id": "f27fcc36",
   "metadata": {},
   "outputs": [
    {
     "name": "stdout",
     "output_type": "stream",
     "text": [
      "\n",
      "\n",
      "\u001b[1m> Entering new AgentExecutor chain...\u001b[0m\n",
      "\u001b[32;1m\u001b[1;3mAction:\n",
      "```\n",
      "{\n",
      "  \"action\": \"list_indices_es_db\",\n",
      "  \"action_input\": \"\"\n",
      "}\n",
      "```\n",
      "\n",
      "\u001b[0m\n",
      "Observation: \u001b[33;1m\u001b[1;3mkibana_sample_data_flights, kibana_sample_data_logs, .fleet-files-agent-000001, kibana_sample_data_ecommerce, test-123, .fleet-file-data-agent-000001\u001b[0m\n",
      "Thought:\u001b[32;1m\u001b[1;3m I should check the schema of the ecommerce index to see what fields I can query.\n",
      "Action:\n",
      "```\n",
      "{\n",
      "  \"action\": \"schema_es_db\",\n",
      "  \"action_input\": \"kibana_sample_data_ecommerce\"\n",
      "}\n",
      "```\n",
      "\n",
      "\u001b[0m\n",
      "Observation: \u001b[36;1m\u001b[1;3mIndex: kibana_sample_data_ecommerce\n",
      "Fields: {'category': 'text', 'category.keyword': 'keyword', 'currency': 'keyword', 'customer_birth_date': 'date', 'customer_first_name': 'text', 'customer_first_name.keyword': 'keyword', 'customer_full_name': 'text', 'customer_full_name.keyword': 'keyword', 'customer_gender': 'keyword', 'customer_id': 'keyword', 'customer_last_name': 'text', 'customer_last_name.keyword': 'keyword', 'customer_phone': 'keyword', 'day_of_week': 'keyword', 'day_of_week_i': 'integer', 'email': 'keyword', 'event.dataset': 'keyword', 'geoip.city_name': 'keyword', 'geoip.continent_name': 'keyword', 'geoip.country_iso_code': 'keyword', 'geoip.location': 'geo_point', 'geoip.region_name': 'keyword', 'manufacturer': 'text', 'manufacturer.keyword': 'keyword', 'order_date': 'date', 'order_id': 'keyword', 'products._id': 'text', 'products._id.keyword': 'keyword', 'products.base_price': 'half_float', 'products.base_unit_price': 'half_float', 'products.category': 'text', 'products.category.keyword': 'keyword', 'products.created_on': 'date', 'products.discount_amount': 'half_float', 'products.discount_percentage': 'half_float', 'products.manufacturer': 'text', 'products.manufacturer.keyword': 'keyword', 'products.min_price': 'half_float', 'products.price': 'half_float', 'products.product_id': 'long', 'products.product_name': 'text', 'products.product_name.keyword': 'keyword', 'products.quantity': 'integer', 'products.sku': 'keyword', 'products.tax_amount': 'half_float', 'products.taxful_price': 'half_float', 'products.taxless_price': 'half_float', 'products.unit_discount_amount': 'half_float', 'sku': 'keyword', 'taxful_total_price': 'half_float', 'taxless_total_price': 'half_float', 'total_quantity': 'integer', 'total_unique_products': 'integer', 'type': 'keyword', 'user': 'keyword'}\n",
      "\u001b[0m\n",
      "Thought:\u001b[32;1m\u001b[1;3m I should create a query to get the daily spending data from the ecommerce index.\n",
      "Action:\n",
      "```\n",
      "{\n",
      "  \"action\": \"query_es_db\",\n",
      "  \"action_input\": {\n",
      "    \"index_name\": \"kibana_sample_data_ecommerce\",\n",
      "    \"query\": {\n",
      "      \"size\": 0,\n",
      "      \"query\": {\n",
      "        \"bool\": {\n",
      "          \"filter\": [\n",
      "            {\n",
      "              \"range\": {\n",
      "                \"order_date\": {\n",
      "                  \"gte\": \"now-7d/d\",\n",
      "                  \"lte\": \"now/d\"\n",
      "                }\n",
      "              }\n",
      "            }\n",
      "          ]\n",
      "        }\n",
      "      },\n",
      "      \"aggs\": {\n",
      "        \"daily_spending\": {\n",
      "          \"date_histogram\": {\n",
      "            \"field\": \"order_date\",\n",
      "            \"fixed_interval\": \"1d\"\n",
      "          },\n",
      "          \"aggs\": {\n",
      "            \"total_spending\": {\n",
      "              \"sum\": {\n",
      "                \"field\": \"taxful_total_price\"\n",
      "              }\n",
      "            }\n",
      "          }\n",
      "        }\n",
      "      }\u001b[0m\n",
      "\n",
      "\u001b[1m> Finished chain.\u001b[0m\n"
     ]
    },
    {
     "data": {
      "text/plain": [
       "' I should create a query to get the daily spending data from the ecommerce index.\\nAction:\\n```\\n{\\n  \"action\": \"query_es_db\",\\n  \"action_input\": {\\n    \"index_name\": \"kibana_sample_data_ecommerce\",\\n    \"query\": {\\n      \"size\": 0,\\n      \"query\": {\\n        \"bool\": {\\n          \"filter\": [\\n            {\\n              \"range\": {\\n                \"order_date\": {\\n                  \"gte\": \"now-7d/d\",\\n                  \"lte\": \"now/d\"\\n                }\\n              }\\n            }\\n          ]\\n        }\\n      },\\n      \"aggs\": {\\n        \"daily_spending\": {\\n          \"date_histogram\": {\\n            \"field\": \"order_date\",\\n            \"fixed_interval\": \"1d\"\\n          },\\n          \"aggs\": {\\n            \"total_spending\": {\\n              \"sum\": {\\n                \"field\": \"taxful_total_price\"\\n              }\\n            }\\n          }\\n        }\\n      }'"
      ]
     },
     "execution_count": 5,
     "metadata": {},
     "output_type": "execute_result"
    }
   ],
   "source": [
    "\n",
    "#agent_executor.run(\"Who bought the most in e-commerce shop?\")\n",
    "#agent_executor.run(\"What's the total revenue of my ecommerce shop?\")\n",
    "#agent_executor.run(\"What's median spending in the last 7 days in my ecommerce shop?\")\n",
    "#agent_executor.run(\"Can you find any trace of an attack to my website in the logs?\")\n",
    "agent_executor.run(\"How daily spending is increasing in my shop over the last week?\")\n",
    "\n",
    "#agent_executor.run(\"Flights to which destination city are the most delayed?\")\n",
    "#agent_executor.run(\"Which IP sent the most of the bytes?\")"
   ]
  },
  {
   "cell_type": "code",
   "execution_count": null,
   "id": "49e5a283",
   "metadata": {},
   "outputs": [],
   "source": [
    "#print(db.get_index_info(index_names=[\"kibana_sample_data_ecommerce\"]))"
   ]
  },
  {
   "attachments": {},
   "cell_type": "markdown",
   "id": "ad708553",
   "metadata": {},
   "source": [
    "# END OF MY TEST. Following code to be reused later"
   ]
  }
 ],
 "metadata": {
  "kernelspec": {
   "display_name": "Python 3 (ipykernel)",
   "language": "python",
   "name": "python3"
  },
  "language_info": {
   "codemirror_mode": {
    "name": "ipython",
    "version": 3
   },
   "file_extension": ".py",
   "mimetype": "text/x-python",
   "name": "python",
   "nbconvert_exporter": "python",
   "pygments_lexer": "ipython3",
   "version": "3.10.6"
  }
 },
 "nbformat": 4,
 "nbformat_minor": 5
}
