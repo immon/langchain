{
 "cells": [
  {
   "attachments": {},
   "cell_type": "markdown",
   "id": "920a3c1a",
   "metadata": {},
   "source": [
    "# Elasticsearch playground\n",
    "\n",
    "Jupyther notebook to play with Elasticsearch in general.\n",
    "Connect to the cluster, play with queries, play with LLMChains.\n",
    "\n"
   ]
  },
  {
   "cell_type": "code",
   "execution_count": 1,
   "id": "ab9e95ad",
   "metadata": {},
   "outputs": [],
   "source": [
    "import os\n",
    "from langchain import LLMChain, OpenAI, Cohere, HuggingFaceHub, PromptTemplate\n",
    "#from langchain.model_laboratory import ModelLaboratory\n",
    "\n",
    "from elasticsearch import Elasticsearch\n",
    "\n",
    "    "
   ]
  },
  {
   "attachments": {},
   "cell_type": "markdown",
   "id": "72e2cc38",
   "metadata": {},
   "source": [
    "## Cluster credentials and URL"
   ]
  },
  {
   "cell_type": "code",
   "execution_count": 2,
   "id": "f603a5f0",
   "metadata": {},
   "outputs": [],
   "source": [
    "\n",
    "ES_URL = os.environ.get(\"ES_URL\", \"https://test1.es.europe-north1.gcp.elastic-cloud.com:443\")\n",
    "KB_URL = os.environ.get(\"KB_URL\", \"https://test1.kb.europe-north1.gcp.elastic-cloud.com:9243\")\n",
    "\n",
    "username = \"elastic\"\n",
    "password = os.environ.get(\"ES_PASSWORD\", \"\")"
   ]
  },
  {
   "attachments": {},
   "cell_type": "markdown",
   "id": "00aee57a",
   "metadata": {},
   "source": [
    "# Connect to the cluster in Elastic Cloud"
   ]
  },
  {
   "cell_type": "code",
   "execution_count": 3,
   "id": "32cb94e6",
   "metadata": {},
   "outputs": [
    {
     "data": {
      "text/plain": [
       "ObjectApiResponse({'name': 'instance-0000000000', 'cluster_name': '24ee0a66ae1544e3958cd6069dd0e626', 'cluster_uuid': 'rCAnFuk1QZ27xyXaBlvouQ', 'version': {'number': '8.7.1', 'build_flavor': 'default', 'build_type': 'docker', 'build_hash': 'f229ed3f893a515d590d0f39b05f68913e2d9b53', 'build_date': '2023-04-27T04:33:42.127815583Z', 'build_snapshot': False, 'lucene_version': '9.5.0', 'minimum_wire_compatibility_version': '7.17.0', 'minimum_index_compatibility_version': '7.0.0'}, 'tagline': 'You Know, for Search'})"
      ]
     },
     "execution_count": 3,
     "metadata": {},
     "output_type": "execute_result"
    }
   ],
   "source": [
    "client = Elasticsearch(ES_URL,\n",
    "                       basic_auth=(username, password),\n",
    "                       http_compress=True\n",
    "                       )\n",
    "\n",
    "client.info()"
   ]
  },
  {
   "attachments": {},
   "cell_type": "markdown",
   "id": "4bc768be",
   "metadata": {},
   "source": [
    "# Use Elasticsearch API"
   ]
  },
  {
   "cell_type": "code",
   "execution_count": 13,
   "id": "8cc1393f",
   "metadata": {},
   "outputs": [
    {
     "data": {
      "text/plain": [
       "ObjectApiResponse({'count': 31808, '_shards': {'total': 6, 'successful': 6, 'skipped': 0, 'failed': 0}})"
      ]
     },
     "execution_count": 13,
     "metadata": {},
     "output_type": "execute_result"
    }
   ],
   "source": [
    "my_index = \"test-123\"\n",
    "\n",
    "index_settings = { \"number_of_shards\": 1 }\n",
    "index_mappings = {\n",
    "        \"properties\": {\n",
    "            \"name\": { \"type\": \"text\"},\n",
    "            \"foo\": { \"type\": \"keyword\" }\n",
    "            }\n",
    "}\n",
    "\n",
    "#client.options(ignore_status=400).indices.delete(index=my_index)\n",
    "client.options(ignore_status=400).indices.create(index=my_index, mappings=index_mappings, settings=index_settings)\n",
    "\n",
    "# client.indices.refresh(index=my_index)\n",
    "\n",
    "client.count(index=\"*\")\n"
   ]
  },
  {
   "cell_type": "code",
   "execution_count": 14,
   "id": "21a38566",
   "metadata": {},
   "outputs": [
    {
     "data": {
      "text/plain": [
       "ObjectApiResponse({'test-123': {'mappings': {'properties': {'foo': {'type': 'keyword'}, 'name': {'type': 'text'}}}}})"
      ]
     },
     "execution_count": 14,
     "metadata": {},
     "output_type": "execute_result"
    }
   ],
   "source": [
    "client.indices.get_mapping(index=my_index)\n"
   ]
  },
  {
   "cell_type": "code",
   "execution_count": 18,
   "id": "14cde09d",
   "metadata": {},
   "outputs": [
    {
     "data": {
      "text/plain": [
       "ObjectApiResponse({'_shards': {'total': 2, 'successful': 1, 'failed': 0}, '_all': {'primaries': {'docs': {'count': 0, 'deleted': 0}, 'shard_stats': {'total_count': 1}, 'store': {'size_in_bytes': 225, 'total_data_set_size_in_bytes': 225, 'reserved_in_bytes': 0}, 'indexing': {'index_total': 0, 'index_time_in_millis': 0, 'index_current': 0, 'index_failed': 0, 'delete_total': 0, 'delete_time_in_millis': 0, 'delete_current': 0, 'noop_update_total': 0, 'is_throttled': False, 'throttle_time_in_millis': 0, 'write_load': 0.0}, 'get': {'total': 0, 'time_in_millis': 0, 'exists_total': 0, 'exists_time_in_millis': 0, 'missing_total': 0, 'missing_time_in_millis': 0, 'current': 0}, 'search': {'open_contexts': 0, 'query_total': 3, 'query_time_in_millis': 0, 'query_current': 0, 'fetch_total': 0, 'fetch_time_in_millis': 0, 'fetch_current': 0, 'scroll_total': 0, 'scroll_time_in_millis': 0, 'scroll_current': 0, 'suggest_total': 0, 'suggest_time_in_millis': 0, 'suggest_current': 0}, 'merges': {'current': 0, 'current_docs': 0, 'current_size_in_bytes': 0, 'total': 0, 'total_time_in_millis': 0, 'total_docs': 0, 'total_size_in_bytes': 0, 'total_stopped_time_in_millis': 0, 'total_throttled_time_in_millis': 0, 'total_auto_throttle_in_bytes': 20971520}, 'refresh': {'total': 2, 'total_time_in_millis': 0, 'external_total': 2, 'external_total_time_in_millis': 0, 'listeners': 0}, 'flush': {'total': 0, 'periodic': 0, 'total_time_in_millis': 0}, 'warmer': {'current': 0, 'total': 1, 'total_time_in_millis': 0}, 'query_cache': {'memory_size_in_bytes': 0, 'total_count': 0, 'hit_count': 0, 'miss_count': 0, 'cache_size': 0, 'cache_count': 0, 'evictions': 0}, 'fielddata': {'memory_size_in_bytes': 0, 'evictions': 0}, 'completion': {'size_in_bytes': 0}, 'segments': {'count': 0, 'memory_in_bytes': 0, 'terms_memory_in_bytes': 0, 'stored_fields_memory_in_bytes': 0, 'term_vectors_memory_in_bytes': 0, 'norms_memory_in_bytes': 0, 'points_memory_in_bytes': 0, 'doc_values_memory_in_bytes': 0, 'index_writer_memory_in_bytes': 0, 'version_map_memory_in_bytes': 0, 'fixed_bit_set_memory_in_bytes': 0, 'max_unsafe_auto_id_timestamp': -1, 'file_sizes': {}}, 'translog': {'operations': 0, 'size_in_bytes': 55, 'uncommitted_operations': 0, 'uncommitted_size_in_bytes': 55, 'earliest_last_modified_age': 70381}, 'request_cache': {'memory_size_in_bytes': 592, 'evictions': 0, 'hit_count': 2, 'miss_count': 1}, 'recovery': {'current_as_source': 0, 'current_as_target': 0, 'throttle_time_in_millis': 0}, 'bulk': {'total_operations': 0, 'total_time_in_millis': 0, 'total_size_in_bytes': 0, 'avg_time_in_millis': 0, 'avg_size_in_bytes': 0}}, 'total': {'docs': {'count': 0, 'deleted': 0}, 'shard_stats': {'total_count': 1}, 'store': {'size_in_bytes': 225, 'total_data_set_size_in_bytes': 225, 'reserved_in_bytes': 0}, 'indexing': {'index_total': 0, 'index_time_in_millis': 0, 'index_current': 0, 'index_failed': 0, 'delete_total': 0, 'delete_time_in_millis': 0, 'delete_current': 0, 'noop_update_total': 0, 'is_throttled': False, 'throttle_time_in_millis': 0, 'write_load': 0.0}, 'get': {'total': 0, 'time_in_millis': 0, 'exists_total': 0, 'exists_time_in_millis': 0, 'missing_total': 0, 'missing_time_in_millis': 0, 'current': 0}, 'search': {'open_contexts': 0, 'query_total': 3, 'query_time_in_millis': 0, 'query_current': 0, 'fetch_total': 0, 'fetch_time_in_millis': 0, 'fetch_current': 0, 'scroll_total': 0, 'scroll_time_in_millis': 0, 'scroll_current': 0, 'suggest_total': 0, 'suggest_time_in_millis': 0, 'suggest_current': 0}, 'merges': {'current': 0, 'current_docs': 0, 'current_size_in_bytes': 0, 'total': 0, 'total_time_in_millis': 0, 'total_docs': 0, 'total_size_in_bytes': 0, 'total_stopped_time_in_millis': 0, 'total_throttled_time_in_millis': 0, 'total_auto_throttle_in_bytes': 20971520}, 'refresh': {'total': 2, 'total_time_in_millis': 0, 'external_total': 2, 'external_total_time_in_millis': 0, 'listeners': 0}, 'flush': {'total': 0, 'periodic': 0, 'total_time_in_millis': 0}, 'warmer': {'current': 0, 'total': 1, 'total_time_in_millis': 0}, 'query_cache': {'memory_size_in_bytes': 0, 'total_count': 0, 'hit_count': 0, 'miss_count': 0, 'cache_size': 0, 'cache_count': 0, 'evictions': 0}, 'fielddata': {'memory_size_in_bytes': 0, 'evictions': 0}, 'completion': {'size_in_bytes': 0}, 'segments': {'count': 0, 'memory_in_bytes': 0, 'terms_memory_in_bytes': 0, 'stored_fields_memory_in_bytes': 0, 'term_vectors_memory_in_bytes': 0, 'norms_memory_in_bytes': 0, 'points_memory_in_bytes': 0, 'doc_values_memory_in_bytes': 0, 'index_writer_memory_in_bytes': 0, 'version_map_memory_in_bytes': 0, 'fixed_bit_set_memory_in_bytes': 0, 'max_unsafe_auto_id_timestamp': -1, 'file_sizes': {}}, 'translog': {'operations': 0, 'size_in_bytes': 55, 'uncommitted_operations': 0, 'uncommitted_size_in_bytes': 55, 'earliest_last_modified_age': 70381}, 'request_cache': {'memory_size_in_bytes': 592, 'evictions': 0, 'hit_count': 2, 'miss_count': 1}, 'recovery': {'current_as_source': 0, 'current_as_target': 0, 'throttle_time_in_millis': 0}, 'bulk': {'total_operations': 0, 'total_time_in_millis': 0, 'total_size_in_bytes': 0, 'avg_time_in_millis': 0, 'avg_size_in_bytes': 0}}}, 'indices': {'test-123': {'uuid': 'kKwWJw_QRZ2H17RcrcFMgA', 'health': 'yellow', 'status': 'open', 'primaries': {'docs': {'count': 0, 'deleted': 0}, 'shard_stats': {'total_count': 1}, 'store': {'size_in_bytes': 225, 'total_data_set_size_in_bytes': 225, 'reserved_in_bytes': 0}, 'indexing': {'index_total': 0, 'index_time_in_millis': 0, 'index_current': 0, 'index_failed': 0, 'delete_total': 0, 'delete_time_in_millis': 0, 'delete_current': 0, 'noop_update_total': 0, 'is_throttled': False, 'throttle_time_in_millis': 0, 'write_load': 0.0}, 'get': {'total': 0, 'time_in_millis': 0, 'exists_total': 0, 'exists_time_in_millis': 0, 'missing_total': 0, 'missing_time_in_millis': 0, 'current': 0}, 'search': {'open_contexts': 0, 'query_total': 3, 'query_time_in_millis': 0, 'query_current': 0, 'fetch_total': 0, 'fetch_time_in_millis': 0, 'fetch_current': 0, 'scroll_total': 0, 'scroll_time_in_millis': 0, 'scroll_current': 0, 'suggest_total': 0, 'suggest_time_in_millis': 0, 'suggest_current': 0}, 'merges': {'current': 0, 'current_docs': 0, 'current_size_in_bytes': 0, 'total': 0, 'total_time_in_millis': 0, 'total_docs': 0, 'total_size_in_bytes': 0, 'total_stopped_time_in_millis': 0, 'total_throttled_time_in_millis': 0, 'total_auto_throttle_in_bytes': 20971520}, 'refresh': {'total': 2, 'total_time_in_millis': 0, 'external_total': 2, 'external_total_time_in_millis': 0, 'listeners': 0}, 'flush': {'total': 0, 'periodic': 0, 'total_time_in_millis': 0}, 'warmer': {'current': 0, 'total': 1, 'total_time_in_millis': 0}, 'query_cache': {'memory_size_in_bytes': 0, 'total_count': 0, 'hit_count': 0, 'miss_count': 0, 'cache_size': 0, 'cache_count': 0, 'evictions': 0}, 'fielddata': {'memory_size_in_bytes': 0, 'evictions': 0}, 'completion': {'size_in_bytes': 0}, 'segments': {'count': 0, 'memory_in_bytes': 0, 'terms_memory_in_bytes': 0, 'stored_fields_memory_in_bytes': 0, 'term_vectors_memory_in_bytes': 0, 'norms_memory_in_bytes': 0, 'points_memory_in_bytes': 0, 'doc_values_memory_in_bytes': 0, 'index_writer_memory_in_bytes': 0, 'version_map_memory_in_bytes': 0, 'fixed_bit_set_memory_in_bytes': 0, 'max_unsafe_auto_id_timestamp': -1, 'file_sizes': {}}, 'translog': {'operations': 0, 'size_in_bytes': 55, 'uncommitted_operations': 0, 'uncommitted_size_in_bytes': 55, 'earliest_last_modified_age': 70381}, 'request_cache': {'memory_size_in_bytes': 592, 'evictions': 0, 'hit_count': 2, 'miss_count': 1}, 'recovery': {'current_as_source': 0, 'current_as_target': 0, 'throttle_time_in_millis': 0}, 'bulk': {'total_operations': 0, 'total_time_in_millis': 0, 'total_size_in_bytes': 0, 'avg_time_in_millis': 0, 'avg_size_in_bytes': 0}}, 'total': {'docs': {'count': 0, 'deleted': 0}, 'shard_stats': {'total_count': 1}, 'store': {'size_in_bytes': 225, 'total_data_set_size_in_bytes': 225, 'reserved_in_bytes': 0}, 'indexing': {'index_total': 0, 'index_time_in_millis': 0, 'index_current': 0, 'index_failed': 0, 'delete_total': 0, 'delete_time_in_millis': 0, 'delete_current': 0, 'noop_update_total': 0, 'is_throttled': False, 'throttle_time_in_millis': 0, 'write_load': 0.0}, 'get': {'total': 0, 'time_in_millis': 0, 'exists_total': 0, 'exists_time_in_millis': 0, 'missing_total': 0, 'missing_time_in_millis': 0, 'current': 0}, 'search': {'open_contexts': 0, 'query_total': 3, 'query_time_in_millis': 0, 'query_current': 0, 'fetch_total': 0, 'fetch_time_in_millis': 0, 'fetch_current': 0, 'scroll_total': 0, 'scroll_time_in_millis': 0, 'scroll_current': 0, 'suggest_total': 0, 'suggest_time_in_millis': 0, 'suggest_current': 0}, 'merges': {'current': 0, 'current_docs': 0, 'current_size_in_bytes': 0, 'total': 0, 'total_time_in_millis': 0, 'total_docs': 0, 'total_size_in_bytes': 0, 'total_stopped_time_in_millis': 0, 'total_throttled_time_in_millis': 0, 'total_auto_throttle_in_bytes': 20971520}, 'refresh': {'total': 2, 'total_time_in_millis': 0, 'external_total': 2, 'external_total_time_in_millis': 0, 'listeners': 0}, 'flush': {'total': 0, 'periodic': 0, 'total_time_in_millis': 0}, 'warmer': {'current': 0, 'total': 1, 'total_time_in_millis': 0}, 'query_cache': {'memory_size_in_bytes': 0, 'total_count': 0, 'hit_count': 0, 'miss_count': 0, 'cache_size': 0, 'cache_count': 0, 'evictions': 0}, 'fielddata': {'memory_size_in_bytes': 0, 'evictions': 0}, 'completion': {'size_in_bytes': 0}, 'segments': {'count': 0, 'memory_in_bytes': 0, 'terms_memory_in_bytes': 0, 'stored_fields_memory_in_bytes': 0, 'term_vectors_memory_in_bytes': 0, 'norms_memory_in_bytes': 0, 'points_memory_in_bytes': 0, 'doc_values_memory_in_bytes': 0, 'index_writer_memory_in_bytes': 0, 'version_map_memory_in_bytes': 0, 'fixed_bit_set_memory_in_bytes': 0, 'max_unsafe_auto_id_timestamp': -1, 'file_sizes': {}}, 'translog': {'operations': 0, 'size_in_bytes': 55, 'uncommitted_operations': 0, 'uncommitted_size_in_bytes': 55, 'earliest_last_modified_age': 70381}, 'request_cache': {'memory_size_in_bytes': 592, 'evictions': 0, 'hit_count': 2, 'miss_count': 1}, 'recovery': {'current_as_source': 0, 'current_as_target': 0, 'throttle_time_in_millis': 0}, 'bulk': {'total_operations': 0, 'total_time_in_millis': 0, 'total_size_in_bytes': 0, 'avg_time_in_millis': 0, 'avg_size_in_bytes': 0}}}}})"
      ]
     },
     "execution_count": 18,
     "metadata": {},
     "output_type": "execute_result"
    }
   ],
   "source": [
    "\n",
    "client.indices.stats(index=my_index)\n"
   ]
  },
  {
   "cell_type": "code",
   "execution_count": 19,
   "id": "6916b1a0",
   "metadata": {},
   "outputs": [
    {
     "name": "stderr",
     "output_type": "stream",
     "text": [
      "/tmp/ipykernel_120307/147764811.py:1: ElasticsearchWarning: this request accesses system indices: [.apm-agent-configuration, .kibana_security_session_1, .security-tokens-7, .security-7, .apm-custom-link, .security-profile-8, .async-search, .kibana_8.7.1_001, .kibana_task_manager_8.7.1_001], but in a future major version, direct access to system indices will be prevented by default\n",
      "  aliases = client.indices.get_alias(index=\"*\", ignore_unavailable=True, )\n"
     ]
    },
    {
     "data": {
      "text/plain": [
       "dict_keys(['.kibana-event-log-8.7.1-000001', 'test-123', '.fleet-file-data-agent-000001', '.apm-agent-configuration', '.apm-source-map', '.kibana_security_session_1', '.fleet-files-agent-000001', 'kibana_sample_data_flights', '.security-tokens-7', '.security-7', '.apm-custom-link', 'kibana_sample_data_ecommerce', '.security-profile-8', '.async-search', '.kibana_8.7.1_001', '.kibana_task_manager_8.7.1_001'])"
      ]
     },
     "execution_count": 19,
     "metadata": {},
     "output_type": "execute_result"
    }
   ],
   "source": [
    "\n",
    "aliases = client.indices.get_alias(index=\"*\", ignore_unavailable=True, )\n",
    "\n",
    "aliases.keys()"
   ]
  },
  {
   "cell_type": "code",
   "execution_count": null,
   "id": "31231ddf",
   "metadata": {},
   "outputs": [
    {
     "data": {
      "text/plain": [
       "['kibana_sample_data_logs']"
      ]
     },
     "execution_count": 61,
     "metadata": {},
     "output_type": "execute_result"
    }
   ],
   "source": [
    "datastreams = client.indices.get_data_stream(name=\"*\")\n",
    "\n",
    "datastreams.get(\"data_streams\")\n",
    "\n",
    "streams = client.indices.get_data_stream(name=\"*\").get(\"data_streams\")\n",
    "streams\n",
    "mylist = map(lambda info: info['name'], streams)\n",
    "list(mylist)"
   ]
  },
  {
   "attachments": {},
   "cell_type": "markdown",
   "id": "4439fa49",
   "metadata": {},
   "source": [
    "# From here I test Elasticsearch Agent"
   ]
  },
  {
   "cell_type": "code",
   "execution_count": 1,
   "id": "f186c741",
   "metadata": {},
   "outputs": [],
   "source": [
    "import os\n",
    "#os.environ[\"LANGCHAIN_HANDLER\"] = \"langchain\"\n",
    "#os.environ[\"LANGCHAIN_TRACING\"] = \"true\"\n",
    "#os.environ[\"LANGCHAIN_SESSION\"] = \"my_session\" # Make sure this session actually exists. You can create a new session in the UI.\n",
    "\n",
    "from langchain import OpenAI, ESEngine, ESChain\n",
    "from langchain.chat_models import ChatOpenAI\n",
    "\n",
    "ES_URL = os.environ.get(\"ES_URL\", \"https://test1.es.europe-north1.gcp.elastic-cloud.com:443\")\n",
    "KB_URL = os.environ.get(\"KB_URL\", \"https://test1.kb.europe-north1.gcp.elastic-cloud.com:9243\")\n",
    "\n",
    "username = \"elastic\"\n",
    "password = os.environ.get(\"ES_PASSWORD\", \"\")\n",
    "\n",
    "db = ESEngine.from_uri(ES_URL, \n",
    "                       connection_args={\n",
    "                           \"basic_auth\": (username, password),\n",
    "                           \"http_compress\": True,\n",
    "                       },\n",
    "                       sample_docs_in_index_info = 0,\n",
    "                       )\n",
    "\n",
    "\n",
    "#db.get_usable_index_names()\n",
    "#db._get_datastream_names()\n",
    "#db.get_index_fields(index_name=\"kibana_sample_data_ecommerce\")\n",
    "#db._get_sample_docs(index_name=\"kibana_sample_data_ecommerce\")\n",
    "#print(db.get_index_info(index_names=[\"kibana_sample_data_ecommerce\"]))\n",
    "#print(db.get_index_info())"
   ]
  },
  {
   "cell_type": "code",
   "execution_count": 2,
   "id": "f5c8f952",
   "metadata": {},
   "outputs": [],
   "source": [
    "\n",
    "from langchain.agents import create_elasticsearch_agent\n",
    "from langchain.agents.agent_toolkits import ElasticsearchDatastoreToolkit\n",
    "from langchain.agents.agent_toolkits import SQLDatabaseToolkit\n",
    "from langchain.es_engine import ESEngine\n",
    "from langchain.llms.openai import OpenAI\n",
    "from langchain.agents import AgentExecutor\n",
    "\n",
    "#db = ESEngine.from_uri(\"sqlite:///../../../../notebooks/Chinook.db\")\n",
    "llm = OpenAI(temperature=0, verbose=True)\n",
    "toolkit = ElasticsearchDatastoreToolkit(db=db, llm=llm)\n",
    "\n",
    "agent_executor = create_elasticsearch_agent(\n",
    "    llm=OpenAI(temperature=0, verbose=True),\n",
    "    toolkit=toolkit,\n",
    "    top_k=0,\n",
    "    verbose=True\n",
    ")\n"
   ]
  },
  {
   "cell_type": "code",
   "execution_count": 3,
   "id": "fbfc631e",
   "metadata": {},
   "outputs": [],
   "source": [
    "#agent_executor.run(\"Describe ecommerce index.\")"
   ]
  },
  {
   "cell_type": "code",
   "execution_count": 4,
   "id": "f27fcc36",
   "metadata": {},
   "outputs": [
    {
     "name": "stdout",
     "output_type": "stream",
     "text": [
      "\n",
      "\n",
      "\u001b[1m> Entering new AgentExecutor chain...\u001b[0m\n",
      "\u001b[32;1m\u001b[1;3mAction:\n",
      "```\n",
      "{\n",
      "  \"action\": \"list_indices_es_db\",\n",
      "  \"action_input\": \"\"\n",
      "}\n",
      "```\n",
      "\n",
      "\u001b[0m\n",
      "Observation: \u001b[33;1m\u001b[1;3mtest-123, kibana_sample_data_ecommerce, kibana_sample_data_logs, kibana_sample_data_flights, .fleet-files-agent-000001, .fleet-file-data-agent-000001\u001b[0m\n",
      "Thought:\u001b[32;1m\u001b[1;3m I should query the kibana_sample_data_ecommerce index to get the median spending in the last 7 days.\n",
      "Action:\n",
      "```\n",
      "{\n",
      "  \"action\": \"query_es_db\",\n",
      "  \"action_input\": {\n",
      "    \"index_name\": \"kibana_sample_data_ecommerce\",\n",
      "    \"query\": {\n",
      "      \"size\": 0,\n",
      "      \"aggs\": {\n",
      "        \"median_spending\": {\n",
      "          \"date_histogram\": {\n",
      "            \"field\": \"order_date\",\n",
      "            \"fixed_interval\": \"7d\",\n",
      "            \"min_doc_count\": 0\n",
      "          },\n",
      "          \"aggs\": {\n",
      "            \"median_spending\": {\n",
      "              \"percentiles\": {\n",
      "                \"field\": \"taxful_total_price\",\n",
      "                \"percents\": [50]\n",
      "              }\n",
      "            }\n",
      "          }\n",
      "        }\n",
      "      }\n",
      "    }\n",
      "  }\n",
      "}\n",
      "```\n",
      "\n",
      "\u001b[0m\n",
      "Observation: \u001b[38;5;200m\u001b[1;3m{'took': 7, 'timed_out': False, '_shards': {'total': 1, 'successful': 1, 'skipped': 0, 'failed': 0}, 'hits': {'total': {'value': 4675, 'relation': 'eq'}, 'max_score': None, 'hits': []}, 'aggregations': {'median_spending': {'buckets': [{'key_as_string': '2023-04-27T00:00:00.000Z', 'key': 1682553600000, 'doc_count': 1023, 'median_spending': {'values': {'50.0': 61.96875}}}, {'key_as_string': '2023-05-04T00:00:00.000Z', 'key': 1683158400000, 'doc_count': 1035, 'median_spending': {'values': {'50.0': 67.0}}}, {'key_as_string': '2023-05-11T00:00:00.000Z', 'key': 1683763200000, 'doc_count': 1060, 'median_spending': {'values': {'50.0': 62.73798076923077}}}, {'key_as_string': '2023-05-18T00:00:00.000Z', 'key': 1684368000000, 'doc_count': 1104, 'median_spending': {'values': {'50.0': 64.8125}}}, {'key_as_string': '2023-05-25T00:00:00.000Z', 'key': 1684972800000, 'doc_count': 453, 'median_spending': {'values': {'50.0': 67.0}}}]}}}\u001b[0m\n",
      "Thought:\u001b[32;1m\u001b[1;3m I can now answer the question\n",
      "Action:\n",
      "```\n",
      "{\n",
      "  \"action\": \"Final Answer\",\n",
      "  \"action_input\": \"The median spending in the last 7 days in your ecommerce shop is 67.0\"\n",
      "}\n",
      "```\u001b[0m\n",
      "\n",
      "\u001b[1m> Finished chain.\u001b[0m\n"
     ]
    },
    {
     "data": {
      "text/plain": [
       "'The median spending in the last 7 days in your ecommerce shop is 67.0'"
      ]
     },
     "execution_count": 4,
     "metadata": {},
     "output_type": "execute_result"
    }
   ],
   "source": [
    "\n",
    "#agent_executor.run(\"Who bought the most in e-commerce shop?\")\n",
    "#agent_executor.run(\"What's the total revenue of my ecommerce shop?\")\n",
    "agent_executor.run(\"What's median spending in the last 7 days in my ecommerce shop?\")\n",
    "#agent_executor.run(\"Flights to which destination city are the most delayed?\")"
   ]
  },
  {
   "cell_type": "code",
   "execution_count": 17,
   "id": "49e5a283",
   "metadata": {},
   "outputs": [
    {
     "name": "stdout",
     "output_type": "stream",
     "text": [
      "Index: kibana_sample_data_ecommerce\n",
      "Fields: {'category': 'text', 'category.keyword': 'keyword', 'currency': 'keyword', 'customer_birth_date': 'date', 'customer_first_name': 'text', 'customer_first_name.keyword': 'keyword', 'customer_full_name': 'text', 'customer_full_name.keyword': 'keyword', 'customer_gender': 'keyword', 'customer_id': 'keyword', 'customer_last_name': 'text', 'customer_last_name.keyword': 'keyword', 'customer_phone': 'keyword', 'day_of_week': 'keyword', 'day_of_week_i': 'integer', 'email': 'keyword', 'event.dataset': 'keyword', 'geoip.city_name': 'keyword', 'geoip.continent_name': 'keyword', 'geoip.country_iso_code': 'keyword', 'geoip.location': 'geo_point', 'geoip.region_name': 'keyword', 'manufacturer': 'text', 'manufacturer.keyword': 'keyword', 'order_date': 'date', 'order_id': 'keyword', 'products._id': 'text', 'products._id.keyword': 'keyword', 'products.base_price': 'half_float', 'products.base_unit_price': 'half_float', 'products.category': 'text', 'products.category.keyword': 'keyword', 'products.created_on': 'date', 'products.discount_amount': 'half_float', 'products.discount_percentage': 'half_float', 'products.manufacturer': 'text', 'products.manufacturer.keyword': 'keyword', 'products.min_price': 'half_float', 'products.price': 'half_float', 'products.product_id': 'long', 'products.product_name': 'text', 'products.product_name.keyword': 'keyword', 'products.quantity': 'integer', 'products.sku': 'keyword', 'products.tax_amount': 'half_float', 'products.taxful_price': 'half_float', 'products.taxless_price': 'half_float', 'products.unit_discount_amount': 'half_float', 'sku': 'keyword', 'taxful_total_price': 'half_float', 'taxless_total_price': 'half_float', 'total_quantity': 'integer', 'total_unique_products': 'integer', 'type': 'keyword', 'user': 'keyword'}\n",
      "\n"
     ]
    }
   ],
   "source": [
    "print(db.get_index_info(index_names=[\"kibana_sample_data_ecommerce\"]))"
   ]
  },
  {
   "attachments": {},
   "cell_type": "markdown",
   "id": "ad708553",
   "metadata": {},
   "source": [
    "# END OF MY TEST. Following code to be reused later"
   ]
  }
 ],
 "metadata": {
  "kernelspec": {
   "display_name": "Python 3 (ipykernel)",
   "language": "python",
   "name": "python3"
  },
  "language_info": {
   "codemirror_mode": {
    "name": "ipython",
    "version": 3
   },
   "file_extension": ".py",
   "mimetype": "text/x-python",
   "name": "python",
   "nbconvert_exporter": "python",
   "pygments_lexer": "ipython3",
   "version": "3.10.6"
  }
 },
 "nbformat": 4,
 "nbformat_minor": 5
}
